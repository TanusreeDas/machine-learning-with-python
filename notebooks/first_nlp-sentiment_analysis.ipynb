{
 "cells": [
  {
   "cell_type": "code",
   "execution_count": 1,
   "id": "7f8aa1d6",
   "metadata": {},
   "outputs": [],
   "source": [
    "import pandas as pd\n",
    "import numpy as np\n",
    "import matplotlib.pyplot as plt\n",
    "import seaborn as sns\n",
    "import re\n",
    "import warnings\n",
    "from collections import Counter\n",
    "import contractions\n",
    "from spellchecker import SpellChecker\n",
    "from sklearn.feature_extraction import text\n",
    "from sklearn.feature_extraction.text import CountVectorizer\n",
    "from sklearn.model_selection import train_test_split, cross_val_score, StratifiedKFold, GridSearchCV\n",
    "warnings.filterwarnings('ignore')"
   ]
  },
  {
   "cell_type": "code",
   "execution_count": 2,
   "id": "9d0d7569",
   "metadata": {},
   "outputs": [],
   "source": [
    "sentiment_df=pd.read_csv(\"../data/sentiment_train\",delimiter=\"\\t\")"
   ]
  },
  {
   "cell_type": "code",
   "execution_count": 3,
   "id": "defb3a05",
   "metadata": {},
   "outputs": [
    {
     "name": "stdout",
     "output_type": "stream",
     "text": [
      "<class 'pandas.core.frame.DataFrame'>\n",
      "RangeIndex: 7086 entries, 0 to 7085\n",
      "Data columns (total 2 columns):\n",
      " #   Column     Non-Null Count  Dtype \n",
      "---  ------     --------------  ----- \n",
      " 0   sentiment  7086 non-null   int64 \n",
      " 1   text       7086 non-null   object\n",
      "dtypes: int64(1), object(1)\n",
      "memory usage: 110.8+ KB\n"
     ]
    }
   ],
   "source": [
    "sentiment_df.info()"
   ]
  },
  {
   "cell_type": "code",
   "execution_count": 4,
   "id": "90175b03",
   "metadata": {},
   "outputs": [
    {
     "data": {
      "text/html": [
       "<div>\n",
       "<style scoped>\n",
       "    .dataframe tbody tr th:only-of-type {\n",
       "        vertical-align: middle;\n",
       "    }\n",
       "\n",
       "    .dataframe tbody tr th {\n",
       "        vertical-align: top;\n",
       "    }\n",
       "\n",
       "    .dataframe thead th {\n",
       "        text-align: right;\n",
       "    }\n",
       "</style>\n",
       "<table border=\"1\" class=\"dataframe\">\n",
       "  <thead>\n",
       "    <tr style=\"text-align: right;\">\n",
       "      <th></th>\n",
       "      <th>sentiment</th>\n",
       "      <th>text</th>\n",
       "    </tr>\n",
       "  </thead>\n",
       "  <tbody>\n",
       "    <tr>\n",
       "      <th>0</th>\n",
       "      <td>1</td>\n",
       "      <td>The Da Vinci Code book is just awesome.</td>\n",
       "    </tr>\n",
       "    <tr>\n",
       "      <th>1</th>\n",
       "      <td>1</td>\n",
       "      <td>this was the first clive cussler i've ever rea...</td>\n",
       "    </tr>\n",
       "    <tr>\n",
       "      <th>2</th>\n",
       "      <td>1</td>\n",
       "      <td>i liked the Da Vinci Code a lot.</td>\n",
       "    </tr>\n",
       "    <tr>\n",
       "      <th>3</th>\n",
       "      <td>1</td>\n",
       "      <td>i liked the Da Vinci Code a lot.</td>\n",
       "    </tr>\n",
       "    <tr>\n",
       "      <th>4</th>\n",
       "      <td>1</td>\n",
       "      <td>I liked the Da Vinci Code but it ultimatly did...</td>\n",
       "    </tr>\n",
       "  </tbody>\n",
       "</table>\n",
       "</div>"
      ],
      "text/plain": [
       "   sentiment                                               text\n",
       "0          1            The Da Vinci Code book is just awesome.\n",
       "1          1  this was the first clive cussler i've ever rea...\n",
       "2          1                   i liked the Da Vinci Code a lot.\n",
       "3          1                   i liked the Da Vinci Code a lot.\n",
       "4          1  I liked the Da Vinci Code but it ultimatly did..."
      ]
     },
     "execution_count": 4,
     "metadata": {},
     "output_type": "execute_result"
    }
   ],
   "source": [
    "sentiment_df.head(5)"
   ]
  },
  {
   "cell_type": "code",
   "execution_count": 5,
   "id": "d96fa8c2",
   "metadata": {
    "scrolled": true
   },
   "outputs": [
    {
     "data": {
      "text/html": [
       "<div>\n",
       "<style scoped>\n",
       "    .dataframe tbody tr th:only-of-type {\n",
       "        vertical-align: middle;\n",
       "    }\n",
       "\n",
       "    .dataframe tbody tr th {\n",
       "        vertical-align: top;\n",
       "    }\n",
       "\n",
       "    .dataframe thead th {\n",
       "        text-align: right;\n",
       "    }\n",
       "</style>\n",
       "<table border=\"1\" class=\"dataframe\">\n",
       "  <thead>\n",
       "    <tr style=\"text-align: right;\">\n",
       "      <th></th>\n",
       "      <th>sentiment</th>\n",
       "      <th>text</th>\n",
       "    </tr>\n",
       "  </thead>\n",
       "  <tbody>\n",
       "    <tr>\n",
       "      <th>count</th>\n",
       "      <td>7086.000000</td>\n",
       "      <td>7086</td>\n",
       "    </tr>\n",
       "    <tr>\n",
       "      <th>unique</th>\n",
       "      <td>NaN</td>\n",
       "      <td>1410</td>\n",
       "    </tr>\n",
       "    <tr>\n",
       "      <th>top</th>\n",
       "      <td>NaN</td>\n",
       "      <td>I love Harry Potter.</td>\n",
       "    </tr>\n",
       "    <tr>\n",
       "      <th>freq</th>\n",
       "      <td>NaN</td>\n",
       "      <td>167</td>\n",
       "    </tr>\n",
       "    <tr>\n",
       "      <th>mean</th>\n",
       "      <td>0.563788</td>\n",
       "      <td>NaN</td>\n",
       "    </tr>\n",
       "    <tr>\n",
       "      <th>std</th>\n",
       "      <td>0.495949</td>\n",
       "      <td>NaN</td>\n",
       "    </tr>\n",
       "    <tr>\n",
       "      <th>min</th>\n",
       "      <td>0.000000</td>\n",
       "      <td>NaN</td>\n",
       "    </tr>\n",
       "    <tr>\n",
       "      <th>25%</th>\n",
       "      <td>0.000000</td>\n",
       "      <td>NaN</td>\n",
       "    </tr>\n",
       "    <tr>\n",
       "      <th>50%</th>\n",
       "      <td>1.000000</td>\n",
       "      <td>NaN</td>\n",
       "    </tr>\n",
       "    <tr>\n",
       "      <th>75%</th>\n",
       "      <td>1.000000</td>\n",
       "      <td>NaN</td>\n",
       "    </tr>\n",
       "    <tr>\n",
       "      <th>max</th>\n",
       "      <td>1.000000</td>\n",
       "      <td>NaN</td>\n",
       "    </tr>\n",
       "  </tbody>\n",
       "</table>\n",
       "</div>"
      ],
      "text/plain": [
       "          sentiment                  text\n",
       "count   7086.000000                  7086\n",
       "unique          NaN                  1410\n",
       "top             NaN  I love Harry Potter.\n",
       "freq            NaN                   167\n",
       "mean       0.563788                   NaN\n",
       "std        0.495949                   NaN\n",
       "min        0.000000                   NaN\n",
       "25%        0.000000                   NaN\n",
       "50%        1.000000                   NaN\n",
       "75%        1.000000                   NaN\n",
       "max        1.000000                   NaN"
      ]
     },
     "execution_count": 5,
     "metadata": {},
     "output_type": "execute_result"
    }
   ],
   "source": [
    "sentiment_df.describe(include='all')"
   ]
  },
  {
   "cell_type": "markdown",
   "id": "335e92c1",
   "metadata": {},
   "source": [
    "<h1><span style=\"color:red\"> Step1:- </span> </h1> <h3> <b>EDA</b> (Preporcessing and Visualization) </h3> Remove numbers ,space and non word characters from beginning of each text."
   ]
  },
  {
   "cell_type": "code",
   "execution_count": 6,
   "id": "136576e1",
   "metadata": {},
   "outputs": [],
   "source": [
    "sentiment_df[\"text\"] = sentiment_df[\"text\"].str.lower()"
   ]
  },
  {
   "cell_type": "code",
   "execution_count": 7,
   "id": "be40ed69",
   "metadata": {},
   "outputs": [
    {
     "name": "stdout",
     "output_type": "stream",
     "text": [
      "1\n",
      "0\n"
     ]
    }
   ],
   "source": [
    "unique_sentiments=sentiment_df['sentiment'].unique()\n",
    "for sentiment in unique_sentiments:\n",
    "    print(sentiment)"
   ]
  },
  {
   "cell_type": "code",
   "execution_count": 8,
   "id": "f4762e34",
   "metadata": {},
   "outputs": [],
   "source": [
    "sentiment_df_preprocessed=sentiment_df.drop_duplicates().dropna()"
   ]
  },
  {
   "cell_type": "code",
   "execution_count": 9,
   "id": "43415d60",
   "metadata": {},
   "outputs": [
    {
     "data": {
      "text/plain": [
       "1351"
      ]
     },
     "execution_count": 9,
     "metadata": {},
     "output_type": "execute_result"
    }
   ],
   "source": [
    "sentiment_df_preprocessed.shape[0]"
   ]
  },
  {
   "cell_type": "code",
   "execution_count": 10,
   "id": "63461048",
   "metadata": {
    "scrolled": true
   },
   "outputs": [
    {
     "data": {
      "image/png": "[encoded data removed]",
      "text/plain": [
       "<Figure size 600x500 with 1 Axes>"
      ]
     },
     "metadata": {},
     "output_type": "display_data"
    }
   ],
   "source": [
    "plt.figure(figsize=(6,5))\n",
    "ax=sns.countplot(x='sentiment',data=sentiment_df_preprocessed);\n",
    "for p in ax.patches:\n",
    "    ax.annotate(p.get_height(),(p.get_x()+0.1,p.get_height()+5))"
   ]
  },
  {
   "cell_type": "raw",
   "id": "ac58f552",
   "metadata": {},
   "source": [
    "def remove_emoticons(text):\n",
    "    # Define a regular expression pattern to match emoticons\n",
    "    emoticon_pattern = re.compile(u'[\\U0001F600-\\U0001F64F\\U0001F300-\\U0001F5FF\\U0001F680-\\U0001F6FF\\U0001F700-\\U0001F77F\\U0001F780-\\U0001F7FF\\U0001F800-\\U0001F8FF\\U0001F900-\\U0001F9FF\\U0001FA00-\\U0001FA6F\\U0001FA70-\\U0001FAFF\\U00002702-\\U000027B0\\U000024C2-\\U0001F251]+', flags=re.UNICODE)\n",
    "    \n",
    "    # Remove emoticons from the text\n",
    "    text_without_emoticon = re.sub(emoticon_pattern, '', text)\n",
    "    \n",
    "    return text_without_emoticon\n",
    "\n",
    "def special_text_preprocess(text):\n",
    "    stripped_text = text.strip()\n",
    "    # Replace special characters with \"special_character\" except \"&\" with \"and\"\n",
    "    converted_text1 = stripped_text.replace('&', 'and')\n",
    "    converted_text2 = re.sub(r'[^a-zA-Z0-9\\s&\\w\\']', ' special_character ', converted_text1)\n",
    "    # Define a regular expression pattern to match integers preceded by a word\n",
    "    pattern = r'(\\b\\w+\\b)\\s*([-+]?\\d+)'\n",
    "\n",
    "    # Function to replace matched patterns\n",
    "    def replace(match):\n",
    "        word = match.group(1)\n",
    "        num = match.group(2)\n",
    "        # Check if the number is an integer\n",
    "        if word=='special_character' and num.isdigit():\n",
    "            return f'{num.isdigit()}'\n",
    "        elif num.isdigit() or word.isdigit():\n",
    "            return f'{word} {num}'\n",
    "        else:\n",
    "            return f'{word} random_number'\n",
    "\n",
    "    # Replace matched patterns using the replace function\n",
    "    converted_text3 = re.sub(pattern, replace, converted_text2)\n",
    "    # Remove multiple consecutive appearances of \"special_character\" and keep only one\n",
    "    converted_text4 = re.sub(r'(special_character\\s*)+', 'special_character ', converted_text3)\n",
    "    # Remove space between a word and a number unless the word is \"special_character\"\n",
    "    converted_text5 = re.sub(r'(\\b(?!special_character)\\w+\\b)\\s+(-?\\d+)', r'\\1\\2', converted_text4)\n",
    "    # Remove multiple consecutive spaces and keep only one\n",
    "    converted_text6 = re.sub(r'\\s+', ' ', converted_text5)\n",
    "    \n",
    "    return converted_text6.strip()\n",
    "\n",
    "# Apply all the preprocessing steps\n",
    "sentiment_df_preprocessed['text'] = sentiment_df_preprocessed['text'].apply(remove_emoticons).apply(special_text_preprocess)"
   ]
  },
  {
   "cell_type": "code",
   "execution_count": 11,
   "id": "5ad36f8f",
   "metadata": {},
   "outputs": [],
   "source": [
    "def remove_emoticons(text):\n",
    "    # Define a regular expression pattern to match emoticons\n",
    "    emoticon_pattern = re.compile(u'[\\U0001F600-\\U0001F64F\\U0001F300-\\U0001F5FF\\U0001F680-\\U0001F6FF\\U0001F700-\\U0001F77F\\U0001F780-\\U0001F7FF\\U0001F800-\\U0001F8FF\\U0001F900-\\U0001F9FF\\U0001FA00-\\U0001FA6F\\U0001FA70-\\U0001FAFF\\U00002702-\\U000027B0\\U000024C2-\\U0001F251]+', flags=re.UNICODE)\n",
    "    text_without_emoticon = re.sub(emoticon_pattern, '', text)\n",
    "    \n",
    "    return text_without_emoticon\n",
    "\n",
    "def text_preprocess(text):\n",
    "    stripped_text = text.strip()\n",
    "    # Replace special characters with \"special_character\" except \"&\" with \"and\"\n",
    "    converted_text1 = stripped_text.replace('&', 'and')\n",
    "    # Keep only words, space and apostrophe\n",
    "    converted_text2 = re.sub(r'[^a-z\\s\\']', '', converted_text1)\n",
    "    # Remove multiple consecutive spaces and keep only one\n",
    "    converted_text3 = re.sub(r'\\s+', ' ', converted_text2)\n",
    "    \n",
    "    return converted_text3\n",
    "\n",
    "# Apply all the preprocessing steps\n",
    "sentiment_df_preprocessed['text'] = sentiment_df_preprocessed['text'].apply(remove_emoticons).apply(text_preprocess)"
   ]
  },
  {
   "cell_type": "raw",
   "id": "5ea408c7",
   "metadata": {},
   "source": [
    "#check if we still have any number in our text data\n",
    "for text in sentiment_df_preprocessed.text:\n",
    "    contains_number=bool(re.search(r'\\d',text))\n",
    "    if contains_number:\n",
    "        print(text)"
   ]
  },
  {
   "cell_type": "markdown",
   "id": "642ec7f6",
   "metadata": {},
   "source": [
    "Lets consider each word as a feature, each sentence (all called as record and document) as bag of words. All documents is called corpus."
   ]
  },
  {
   "cell_type": "markdown",
   "id": "e974dac8",
   "metadata": {},
   "source": [
    "<h1><span style=\"color:red\"> Step2:- </span> </h1> <h3> The first step creating BoW is to create a dictionary of all words used in the corpus.</h3> In this step we will not worry about grammar and only occurrence of the word is captured."
   ]
  },
  {
   "cell_type": "markdown",
   "id": "310095ba",
   "metadata": {},
   "source": [
    "Convert each document to a vector that represents words available in the document. There are three ways to do that<br> <ol><li><b><span style=\"color:blue\">Count Vector Model-></span></b> count the occurrence of each word in the document.</li><li><b><span style=\"color:blue\">Term Frequency Vector Model-></span></b> the frequency of each word(term) in the document. that means number of occurrences of that word divided by total number of words</li><li><b><span style=\"color:blue\">Term Frequency-Inverse DocumentFrequency (TF-IDF) Model-></span></b> Shows the importance of a word to a document. It increases proportionally to the number of times a word apprears in the document and is reduced by the frequency of the word present in the corpus. </li></ol>"
   ]
  },
  {
   "cell_type": "code",
   "execution_count": 12,
   "id": "a7dba9fb",
   "metadata": {},
   "outputs": [],
   "source": [
    "countVectorizer=CountVectorizer()\n",
    "#learn the vocabulary from the input data & tokenizes input data based on whitespace\n",
    "# or punctuation and constructs a mapping between tokens and integer indices\n",
    "featureVector=countVectorizer.fit(sentiment_df_preprocessed.text) \n",
    "features=featureVector.get_feature_names_out()"
   ]
  },
  {
   "cell_type": "raw",
   "id": "2cde810d",
   "metadata": {},
   "source": [
    "features.tolist()"
   ]
  },
  {
   "cell_type": "code",
   "execution_count": 13,
   "id": "f4313591",
   "metadata": {},
   "outputs": [
    {
     "data": {
      "text/plain": [
       "2142"
      ]
     },
     "execution_count": 13,
     "metadata": {},
     "output_type": "execute_result"
    }
   ],
   "source": [
    "len(features) #total no of unique words in the corpus are 2132"
   ]
  },
  {
   "cell_type": "raw",
   "id": "525def0d",
   "metadata": {},
   "source": [
    "import random\n",
    "random.sample(features.tolist(),10) #check 10 random words in our feature"
   ]
  },
  {
   "cell_type": "code",
   "execution_count": 14,
   "id": "c2c8fcca",
   "metadata": {},
   "outputs": [
    {
     "data": {
      "text/plain": [
       "scipy.sparse._csr.csr_matrix"
      ]
     },
     "execution_count": 14,
     "metadata": {},
     "output_type": "execute_result"
    }
   ],
   "source": [
    "sentiment_features=countVectorizer.transform(sentiment_df_preprocessed.text) #transform method converts each text document into a vector representation, where each element of the vector corresponds to the frequency of the corresponding token in the vocabulary.\n",
    "type(sentiment_features)"
   ]
  },
  {
   "cell_type": "code",
   "execution_count": 15,
   "id": "aeea9ea3",
   "metadata": {},
   "outputs": [
    {
     "data": {
      "text/plain": [
       "(1351, 2142)"
      ]
     },
     "execution_count": 15,
     "metadata": {},
     "output_type": "execute_result"
    }
   ],
   "source": [
    "sentiment_features.shape"
   ]
  },
  {
   "cell_type": "code",
   "execution_count": 16,
   "id": "08aa7fdd",
   "metadata": {},
   "outputs": [
    {
     "data": {
      "text/plain": [
       "13573"
      ]
     },
     "execution_count": 16,
     "metadata": {},
     "output_type": "execute_result"
    }
   ],
   "source": [
    "sentiment_features.getnnz() #To count the total non zero elements in the sparse matrix"
   ]
  },
  {
   "cell_type": "code",
   "execution_count": 17,
   "id": "77758771",
   "metadata": {},
   "outputs": [],
   "source": [
    "sentiment_features_df=pd.DataFrame(sentiment_features.toarray())\n",
    "sentiment_features_df.columns=features"
   ]
  },
  {
   "cell_type": "markdown",
   "id": "439071c3",
   "metadata": {},
   "source": [
    "We can see many numeric values. we need to understand whether they are impor"
   ]
  },
  {
   "cell_type": "markdown",
   "id": "6e81bb8b",
   "metadata": {},
   "source": [
    "Lets try to analyze frequency of features using histogram"
   ]
  },
  {
   "cell_type": "code",
   "execution_count": 18,
   "id": "4b4f9ad1",
   "metadata": {},
   "outputs": [
    {
     "data": {
      "image/png": "[encoded data removed]",
      "text/plain": [
       "<Figure size 1000x600 with 1 Axes>"
      ]
     },
     "metadata": {},
     "output_type": "display_data"
    }
   ],
   "source": [
    "feature_sums=sentiment_features_df.sum()\n",
    "bin_edges=np.arange(0,feature_sums.max()+100,100)\n",
    "plt.figure(figsize=(10,6))\n",
    "plt.hist(feature_sums,bins=50)\n",
    "plt.xlabel(\"Frequency Of Words\")\n",
    "plt.ylabel(\"Denisty\")\n",
    "plt.title('Histogram of Total Value OF feature')\n",
    "plt.xticks(bin_edges,rotation=90)  # Rotate x-axis labels for better readability if needed\n",
    "plt.tight_layout()\n",
    "plt.show()"
   ]
  },
  {
   "cell_type": "markdown",
   "id": "4717446e",
   "metadata": {},
   "source": [
    "We can see large number of features have very rare occurrences"
   ]
  },
  {
   "cell_type": "code",
   "execution_count": 19,
   "id": "0cfb5430",
   "metadata": {},
   "outputs": [],
   "source": [
    "sentiment_features_counter_df=pd.DataFrame(dict(features=features,counts=feature_sums))"
   ]
  },
  {
   "cell_type": "code",
   "execution_count": 20,
   "id": "38e9ca0b",
   "metadata": {},
   "outputs": [],
   "source": [
    "sentiment_features_counter_df.reset_index(drop=True,inplace=True)"
   ]
  },
  {
   "cell_type": "code",
   "execution_count": 21,
   "id": "f239c788",
   "metadata": {},
   "outputs": [
    {
     "data": {
      "text/html": [
       "<div>\n",
       "<style scoped>\n",
       "    .dataframe tbody tr th:only-of-type {\n",
       "        vertical-align: middle;\n",
       "    }\n",
       "\n",
       "    .dataframe tbody tr th {\n",
       "        vertical-align: top;\n",
       "    }\n",
       "\n",
       "    .dataframe thead th {\n",
       "        text-align: right;\n",
       "    }\n",
       "</style>\n",
       "<table border=\"1\" class=\"dataframe\">\n",
       "  <thead>\n",
       "    <tr style=\"text-align: right;\">\n",
       "      <th></th>\n",
       "      <th>features</th>\n",
       "      <th>counts</th>\n",
       "    </tr>\n",
       "  </thead>\n",
       "  <tbody>\n",
       "    <tr>\n",
       "      <th>1867</th>\n",
       "      <td>the</td>\n",
       "      <td>715</td>\n",
       "    </tr>\n",
       "    <tr>\n",
       "      <th>66</th>\n",
       "      <td>and</td>\n",
       "      <td>409</td>\n",
       "    </tr>\n",
       "    <tr>\n",
       "      <th>2014</th>\n",
       "      <td>vinci</td>\n",
       "      <td>368</td>\n",
       "    </tr>\n",
       "    <tr>\n",
       "      <th>432</th>\n",
       "      <td>da</td>\n",
       "      <td>366</td>\n",
       "    </tr>\n",
       "    <tr>\n",
       "      <th>338</th>\n",
       "      <td>code</td>\n",
       "      <td>362</td>\n",
       "    </tr>\n",
       "    <tr>\n",
       "      <th>242</th>\n",
       "      <td>brokeback</td>\n",
       "      <td>362</td>\n",
       "    </tr>\n",
       "    <tr>\n",
       "      <th>1262</th>\n",
       "      <td>mountain</td>\n",
       "      <td>359</td>\n",
       "    </tr>\n",
       "    <tr>\n",
       "      <th>1465</th>\n",
       "      <td>potter</td>\n",
       "      <td>354</td>\n",
       "    </tr>\n",
       "    <tr>\n",
       "      <th>858</th>\n",
       "      <td>harry</td>\n",
       "      <td>353</td>\n",
       "    </tr>\n",
       "    <tr>\n",
       "      <th>1013</th>\n",
       "      <td>is</td>\n",
       "      <td>312</td>\n",
       "    </tr>\n",
       "    <tr>\n",
       "      <th>971</th>\n",
       "      <td>impossible</td>\n",
       "      <td>286</td>\n",
       "    </tr>\n",
       "    <tr>\n",
       "      <th>1243</th>\n",
       "      <td>mission</td>\n",
       "      <td>284</td>\n",
       "    </tr>\n",
       "    <tr>\n",
       "      <th>2034</th>\n",
       "      <td>was</td>\n",
       "      <td>276</td>\n",
       "    </tr>\n",
       "    <tr>\n",
       "      <th>1919</th>\n",
       "      <td>to</td>\n",
       "      <td>243</td>\n",
       "    </tr>\n",
       "    <tr>\n",
       "      <th>126</th>\n",
       "      <td>awesome</td>\n",
       "      <td>230</td>\n",
       "    </tr>\n",
       "  </tbody>\n",
       "</table>\n",
       "</div>"
      ],
      "text/plain": [
       "        features  counts\n",
       "1867         the     715\n",
       "66           and     409\n",
       "2014       vinci     368\n",
       "432           da     366\n",
       "338         code     362\n",
       "242    brokeback     362\n",
       "1262    mountain     359\n",
       "1465      potter     354\n",
       "858        harry     353\n",
       "1013          is     312\n",
       "971   impossible     286\n",
       "1243     mission     284\n",
       "2034         was     276\n",
       "1919          to     243\n",
       "126      awesome     230"
      ]
     },
     "execution_count": 21,
     "metadata": {},
     "output_type": "execute_result"
    }
   ],
   "source": [
    "sentiment_features_counter_df.sort_values('counts',ascending=False)[0:15]"
   ]
  },
  {
   "cell_type": "markdown",
   "id": "dec94e9e",
   "metadata": {},
   "source": [
    "We can see many stop words (the,is,was, and etc.) are most frequented words. As they are irrelevant determining the sentiment of the document we can remove them."
   ]
  },
  {
   "cell_type": "code",
   "execution_count": 22,
   "id": "9dc0e7f5",
   "metadata": {},
   "outputs": [
    {
     "name": "stdout",
     "output_type": "stream",
     "text": [
      "Few stop words-> ['nine', 'full', 'part', 'two', 'amongst', 'mill', 'until', 'system', 'others', 'get']\n"
     ]
    }
   ],
   "source": [
    "my_stop_words=text.ENGLISH_STOP_WORDS\n",
    "#check what are these stop words\n",
    "print(\"Few stop words->\",list(my_stop_words)[0:10])"
   ]
  },
  {
   "cell_type": "markdown",
   "id": "88e4dc14",
   "metadata": {},
   "source": [
    "Convert text to lowercase\n",
    "Remove special characters, punctuation and unwanted symbols\n",
    "Handling Numbers\n",
    "Spell Correction\n",
    "Handling Contraction\n",
    "Handling Emoticon\n",
    "Tokenization\n",
    "Remove Stop words\n",
    "Stemming or Lemmatization"
   ]
  }
 ],
 "metadata": {
  "kernelspec": {
   "display_name": "Python 3 (ipykernel)",
   "language": "python",
   "name": "python3"
  },
  "language_info": {
   "codemirror_mode": {
    "name": "ipython",
    "version": 3
   },
   "file_extension": ".py",
   "mimetype": "text/x-python",
   "name": "python",
   "nbconvert_exporter": "python",
   "pygments_lexer": "ipython3",
   "version": "3.10.8"
  }
 },
 "nbformat": 4,
 "nbformat_minor": 5
}

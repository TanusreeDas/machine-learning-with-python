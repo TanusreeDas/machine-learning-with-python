{
 "cells": [
  {
   "cell_type": "code",
   "execution_count": 1,
   "id": "7f8aa1d6",
   "metadata": {},
   "outputs": [],
   "source": [
    "import pandas as pd\n",
    "import numpy as np\n",
    "import matplotlib.pyplot as plt\n",
    "import seaborn as sns\n",
    "import re\n",
    "import ssl\n",
    "import nltk\n",
    "import spacy\n",
    "import warnings\n",
    "import contractions\n",
    "from bs4 import BeautifulSoup\n",
    "from collections import Counter\n",
    "from wordcloud import WordCloud\n",
    "from spellchecker import SpellChecker\n",
    "from nltk.tokenize import word_tokenize\n",
    "from nltk.corpus import stopwords\n",
    "from nltk.stem import PorterStemmer, WordNetLemmatizer\n",
    "from sklearn.feature_extraction import text\n",
    "from sklearn.feature_extraction.text import CountVectorizer\n",
    "from sklearn.model_selection import train_test_split, cross_val_score, StratifiedKFold, GridSearchCV\n",
    "warnings.filterwarnings('ignore')"
   ]
  },
  {
   "cell_type": "raw",
   "id": "177c5b92",
   "metadata": {},
   "source": [
    "try:\n",
    "    _create_unverified_https_context = ssl._create_unverified_context\n",
    "except AttributeError:\n",
    "    pass\n",
    "else:\n",
    "    ssl._create_default_https_context = _create_unverified_https_context\n",
    "nltk.download('punkt')\n",
    "nltk.download('stopwords')\n",
    "nltk.download('wordnet')"
   ]
  },
  {
   "cell_type": "code",
   "execution_count": 2,
   "id": "9d0d7569",
   "metadata": {},
   "outputs": [],
   "source": [
    "sentiment_df=pd.read_csv(\"../data/sentiment_train\",delimiter=\"\\t\")"
   ]
  },
  {
   "cell_type": "code",
   "execution_count": 3,
   "id": "defb3a05",
   "metadata": {},
   "outputs": [
    {
     "name": "stdout",
     "output_type": "stream",
     "text": [
      "<class 'pandas.core.frame.DataFrame'>\n",
      "RangeIndex: 7086 entries, 0 to 7085\n",
      "Data columns (total 2 columns):\n",
      " #   Column     Non-Null Count  Dtype \n",
      "---  ------     --------------  ----- \n",
      " 0   sentiment  7086 non-null   int64 \n",
      " 1   text       7086 non-null   object\n",
      "dtypes: int64(1), object(1)\n",
      "memory usage: 110.8+ KB\n"
     ]
    }
   ],
   "source": [
    "sentiment_df.info()"
   ]
  },
  {
   "cell_type": "code",
   "execution_count": 4,
   "id": "90175b03",
   "metadata": {},
   "outputs": [
    {
     "data": {
      "text/html": [
       "<div>\n",
       "<style scoped>\n",
       "    .dataframe tbody tr th:only-of-type {\n",
       "        vertical-align: middle;\n",
       "    }\n",
       "\n",
       "    .dataframe tbody tr th {\n",
       "        vertical-align: top;\n",
       "    }\n",
       "\n",
       "    .dataframe thead th {\n",
       "        text-align: right;\n",
       "    }\n",
       "</style>\n",
       "<table border=\"1\" class=\"dataframe\">\n",
       "  <thead>\n",
       "    <tr style=\"text-align: right;\">\n",
       "      <th></th>\n",
       "      <th>sentiment</th>\n",
       "      <th>text</th>\n",
       "    </tr>\n",
       "  </thead>\n",
       "  <tbody>\n",
       "    <tr>\n",
       "      <th>0</th>\n",
       "      <td>1</td>\n",
       "      <td>The Da Vinci Code book is just awesome.</td>\n",
       "    </tr>\n",
       "    <tr>\n",
       "      <th>1</th>\n",
       "      <td>1</td>\n",
       "      <td>this was the first clive cussler i've ever rea...</td>\n",
       "    </tr>\n",
       "    <tr>\n",
       "      <th>2</th>\n",
       "      <td>1</td>\n",
       "      <td>i liked the Da Vinci Code a lot.</td>\n",
       "    </tr>\n",
       "    <tr>\n",
       "      <th>3</th>\n",
       "      <td>1</td>\n",
       "      <td>i liked the Da Vinci Code a lot.</td>\n",
       "    </tr>\n",
       "    <tr>\n",
       "      <th>4</th>\n",
       "      <td>1</td>\n",
       "      <td>I liked the Da Vinci Code but it ultimatly did...</td>\n",
       "    </tr>\n",
       "  </tbody>\n",
       "</table>\n",
       "</div>"
      ],
      "text/plain": [
       "   sentiment                                               text\n",
       "0          1            The Da Vinci Code book is just awesome.\n",
       "1          1  this was the first clive cussler i've ever rea...\n",
       "2          1                   i liked the Da Vinci Code a lot.\n",
       "3          1                   i liked the Da Vinci Code a lot.\n",
       "4          1  I liked the Da Vinci Code but it ultimatly did..."
      ]
     },
     "execution_count": 4,
     "metadata": {},
     "output_type": "execute_result"
    }
   ],
   "source": [
    "sentiment_df.head(5)"
   ]
  },
  {
   "cell_type": "code",
   "execution_count": 5,
   "id": "d96fa8c2",
   "metadata": {
    "scrolled": true
   },
   "outputs": [
    {
     "data": {
      "text/html": [
       "<div>\n",
       "<style scoped>\n",
       "    .dataframe tbody tr th:only-of-type {\n",
       "        vertical-align: middle;\n",
       "    }\n",
       "\n",
       "    .dataframe tbody tr th {\n",
       "        vertical-align: top;\n",
       "    }\n",
       "\n",
       "    .dataframe thead th {\n",
       "        text-align: right;\n",
       "    }\n",
       "</style>\n",
       "<table border=\"1\" class=\"dataframe\">\n",
       "  <thead>\n",
       "    <tr style=\"text-align: right;\">\n",
       "      <th></th>\n",
       "      <th>sentiment</th>\n",
       "      <th>text</th>\n",
       "    </tr>\n",
       "  </thead>\n",
       "  <tbody>\n",
       "    <tr>\n",
       "      <th>count</th>\n",
       "      <td>7086.000000</td>\n",
       "      <td>7086</td>\n",
       "    </tr>\n",
       "    <tr>\n",
       "      <th>unique</th>\n",
       "      <td>NaN</td>\n",
       "      <td>1410</td>\n",
       "    </tr>\n",
       "    <tr>\n",
       "      <th>top</th>\n",
       "      <td>NaN</td>\n",
       "      <td>I love Harry Potter.</td>\n",
       "    </tr>\n",
       "    <tr>\n",
       "      <th>freq</th>\n",
       "      <td>NaN</td>\n",
       "      <td>167</td>\n",
       "    </tr>\n",
       "    <tr>\n",
       "      <th>mean</th>\n",
       "      <td>0.563788</td>\n",
       "      <td>NaN</td>\n",
       "    </tr>\n",
       "    <tr>\n",
       "      <th>std</th>\n",
       "      <td>0.495949</td>\n",
       "      <td>NaN</td>\n",
       "    </tr>\n",
       "    <tr>\n",
       "      <th>min</th>\n",
       "      <td>0.000000</td>\n",
       "      <td>NaN</td>\n",
       "    </tr>\n",
       "    <tr>\n",
       "      <th>25%</th>\n",
       "      <td>0.000000</td>\n",
       "      <td>NaN</td>\n",
       "    </tr>\n",
       "    <tr>\n",
       "      <th>50%</th>\n",
       "      <td>1.000000</td>\n",
       "      <td>NaN</td>\n",
       "    </tr>\n",
       "    <tr>\n",
       "      <th>75%</th>\n",
       "      <td>1.000000</td>\n",
       "      <td>NaN</td>\n",
       "    </tr>\n",
       "    <tr>\n",
       "      <th>max</th>\n",
       "      <td>1.000000</td>\n",
       "      <td>NaN</td>\n",
       "    </tr>\n",
       "  </tbody>\n",
       "</table>\n",
       "</div>"
      ],
      "text/plain": [
       "          sentiment                  text\n",
       "count   7086.000000                  7086\n",
       "unique          NaN                  1410\n",
       "top             NaN  I love Harry Potter.\n",
       "freq            NaN                   167\n",
       "mean       0.563788                   NaN\n",
       "std        0.495949                   NaN\n",
       "min        0.000000                   NaN\n",
       "25%        0.000000                   NaN\n",
       "50%        1.000000                   NaN\n",
       "75%        1.000000                   NaN\n",
       "max        1.000000                   NaN"
      ]
     },
     "execution_count": 5,
     "metadata": {},
     "output_type": "execute_result"
    }
   ],
   "source": [
    "sentiment_df.describe(include='all')"
   ]
  },
  {
   "cell_type": "markdown",
   "id": "335e92c1",
   "metadata": {},
   "source": [
    "<h1><span style=\"color:red\"> Step1:- EDA </span> </h1>(Preporcessing and Visualization)<br>Remove numbers ,space and non word characters from beginning of each text."
   ]
  },
  {
   "cell_type": "markdown",
   "id": "3fbf5f38",
   "metadata": {},
   "source": [
    "<h3><span style=\"color: blue;\"> Text Preprocessing steps-></span></h3>\n",
    "<ol>\n",
    "<li>Convert Text to Lowercase</li>\n",
    "<li>Remove Duplicate and Null Values</li>\n",
    "<li>Remove special characters, punctuation and unwanted symbols</li>\n",
    "<li>Handling Numbers</li>\n",
    "<li>Handling Emoticon</li>\n",
    "<li>Remove URLs and HTML tags</li>\n",
    "<li>Handling Contraction (Use it cautiously) </li>\n",
    "<li>Spell Correction</li>\n",
    "<li>Tokenization</li>\n",
    "<li>Remove Stop words</li>\n",
    "<li>Stemming or Lemmatization</li>\n",
    "</ol>"
   ]
  },
  {
   "cell_type": "code",
   "execution_count": 6,
   "id": "b06773b2",
   "metadata": {},
   "outputs": [],
   "source": [
    "sentiment_df[\"text\"] = sentiment_df[\"text\"].str.lower() #1"
   ]
  },
  {
   "cell_type": "markdown",
   "id": "f3added1",
   "metadata": {},
   "source": [
    "#1 When we want to preserve capitalization of named entities "
   ]
  },
  {
   "cell_type": "raw",
   "id": "d5d810ec",
   "metadata": {},
   "source": [
    "nlp = spacy.load(\"en_core_web_sm\")# Load the English language model\n",
    "\n",
    "\n",
    "def change_to_lowercase(text):\n",
    "    doc = nlp(text)# Tokenize the text using SpaCy\n",
    "\n",
    "    lowercased_text = \"\"\n",
    "    for token in doc:\n",
    "        if token.ent_type_:\n",
    "            lowercased_text += token.text_with_ws # Preserve capitalization\n",
    "        else:        \n",
    "            lowercased_text += token.text.lower() + token.whitespace_ # Lowercase other tokens\n",
    "\n",
    "    return lowercased_text\n",
    "\n",
    "sentiment_df[\"text\"] = sentiment_df[\"text\"].apply(change_to_lowercase) "
   ]
  },
  {
   "cell_type": "code",
   "execution_count": 7,
   "id": "be40ed69",
   "metadata": {},
   "outputs": [
    {
     "name": "stdout",
     "output_type": "stream",
     "text": [
      "1\n",
      "0\n"
     ]
    }
   ],
   "source": [
    "unique_sentiments=sentiment_df['sentiment'].unique()\n",
    "for sentiment in unique_sentiments:\n",
    "    print(sentiment)"
   ]
  },
  {
   "cell_type": "code",
   "execution_count": 8,
   "id": "f4762e34",
   "metadata": {},
   "outputs": [],
   "source": [
    "sentiment_df_preprocessed=sentiment_df.drop_duplicates().dropna() #2"
   ]
  },
  {
   "cell_type": "code",
   "execution_count": 9,
   "id": "43415d60",
   "metadata": {},
   "outputs": [
    {
     "data": {
      "text/plain": [
       "1351"
      ]
     },
     "execution_count": 9,
     "metadata": {},
     "output_type": "execute_result"
    }
   ],
   "source": [
    "sentiment_df_preprocessed.shape[0]"
   ]
  },
  {
   "cell_type": "code",
   "execution_count": 10,
   "id": "63461048",
   "metadata": {
    "scrolled": true
   },
   "outputs": [
    {
     "data": {
      "image/png": "[encoded data removed]",
      "text/plain": [
       "<Figure size 600x300 with 1 Axes>"
      ]
     },
     "metadata": {},
     "output_type": "display_data"
    }
   ],
   "source": [
    "plt.figure(figsize=(6,3))\n",
    "ax=sns.countplot(x='sentiment',data=sentiment_df_preprocessed, color='skyblue');\n",
    "for p in ax.patches:\n",
    "    ax.annotate(p.get_height(),(p.get_x()+0.1,p.get_height()+5))\n",
    "#ax.set_xticklabels(['Negative','Positive'], rotation=0)\n",
    "plt.xlabel('Sentiment')\n",
    "plt.ylabel('Count')\n",
    "plt.title('Distribution of Sentiments')\n",
    "plt.tight_layout()\n",
    "plt.show()    "
   ]
  },
  {
   "cell_type": "markdown",
   "id": "e60dc3d9",
   "metadata": {},
   "source": [
    "from count plot we can see though they are not perfectly balanced we can call them well balaced sentiments so we will not do anything with balancing the data."
   ]
  },
  {
   "cell_type": "code",
   "execution_count": 11,
   "id": "1d52c614",
   "metadata": {},
   "outputs": [],
   "source": [
    "def remove_special_characters_and_numbers(text): #3, 4\n",
    "    stripped_text = text.strip()\n",
    "    # Replace special characters with \"special_character\" except \"&\" with \"and\"\n",
    "    converted_text1 = stripped_text.replace('&', 'and')\n",
    "    # Keep only words, space and apostrophe\n",
    "    converted_text2 = re.sub(r'[^a-z\\s\\']', '', converted_text1)\n",
    "    # Remove multiple consecutive spaces and keep only one\n",
    "    converted_text3 = re.sub(r'\\s+', ' ', converted_text2)\n",
    "    return converted_text3\n",
    "\n",
    "def remove_emoticons(text): #5\n",
    "    # Define a regular expression pattern to match emoticons\n",
    "    emoticon_pattern = re.compile(u'[\\U0001F600-\\U0001F64F\\U0001F300-\\U0001F5FF\\U0001F680-\\U0001F6FF\\U0001F700-\\U0001F77F\\U0001F780-\\U0001F7FF\\U0001F800-\\U0001F8FF\\U0001F900-\\U0001F9FF\\U0001FA00-\\U0001FA6F\\U0001FA70-\\U0001FAFF\\U00002702-\\U000027B0\\U000024C2-\\U0001F251]+', flags=re.UNICODE)\n",
    "    text_without_emoticon = re.sub(emoticon_pattern, '', text)\n",
    "    return text_without_emoticon\n",
    "\n",
    "def remove_urls(text): #6.1\n",
    "    return re.sub(r'http\\S+', '', text)\n",
    "\n",
    "def remove_html_tags(text): #6.2\n",
    "    soup = BeautifulSoup(text, 'html.parser')\n",
    "    return soup.get_text()\n",
    "\n",
    "# Apply above + contraction preprocessing steps #7\n",
    "sentiment_df_preprocessed['processed_text1'] = sentiment_df_preprocessed['text'].apply(\n",
    "    remove_special_characters_and_numbers).apply(remove_emoticons).apply(remove_urls).apply(remove_html_tags)\n",
    "\n",
    "#.apply(contractions.fix)"
   ]
  },
  {
   "cell_type": "markdown",
   "id": "245dac2a",
   "metadata": {},
   "source": [
    "<h2><span style=\"color: red;\">NOTE:</span></h2>In NLP, handling contraction is not typical practice as they carry semantic meaning and set the tone of the text so it is essential to preserve them as they contribute to the overall meaning of the text. Removing contractions as stop words might inadvertently alter the intended meaning of the text. Here I did it for testing purpose, it didnot work well so removed it."
   ]
  },
  {
   "cell_type": "raw",
   "id": "eec35b5a",
   "metadata": {},
   "source": [
    "#check if we still have any number in our text data\n",
    "for text in sentiment_df_preprocessed.text:\n",
    "    contains_number=bool(re.search(r'\\d',text))\n",
    "    if contains_number:\n",
    "        print(text)"
   ]
  },
  {
   "cell_type": "code",
   "execution_count": 12,
   "id": "6c74b151",
   "metadata": {},
   "outputs": [],
   "source": [
    "sentiment_df_preprocessed.dropna(subset=['text'],inplace=True)"
   ]
  },
  {
   "cell_type": "markdown",
   "id": "36dd9772",
   "metadata": {},
   "source": [
    "8# Spelling Correction"
   ]
  },
  {
   "cell_type": "markdown",
   "id": "a588143e",
   "metadata": {},
   "source": [
    "<h4><span style=\"color: brown;\"> which Library to choose?</span></h4>\n",
    "<ul>\n",
    "<li>For general-purpose, easy-to-use spell checking: TextBlob</li>\n",
    "<li>For flexibility and customization: nltk.edit_distance</li>\n",
    "<li>For speed and efficiency: spellchecker</li>\n",
    "<li>For simple integration within Python: spellchecker from autocorrect</li>\n",
    "</ul>"
   ]
  },
  {
   "cell_type": "code",
   "execution_count": 13,
   "id": "64631ad5",
   "metadata": {},
   "outputs": [
    {
     "name": "stdout",
     "output_type": "stream",
     "text": [
      "CPU times: user 2min 46s, sys: 30 ms, total: 2min 46s\n",
      "Wall time: 2min 47s\n"
     ]
    }
   ],
   "source": [
    "#8- If the training dataset is huge then we can skip this process\n",
    "spell_checker=SpellChecker()\n",
    "\n",
    "def correct_spelling(text):\n",
    "    corrected_text=[]\n",
    "    words=text.split()\n",
    "    for word in words:\n",
    "        corrected_word=word if word =='vinci' else spell_checker.correction(word)\n",
    "        corrected_word=word if corrected_word is None else corrected_word\n",
    "        corrected_text.append(corrected_word)\n",
    "    return ' '.join(corrected_text)\n",
    "\n",
    "%time sentiment_df_preprocessed['processed_text2'] = sentiment_df_preprocessed['processed_text1'].\\\n",
    "apply(correct_spelling)"
   ]
  },
  {
   "cell_type": "markdown",
   "id": "d4741ae8",
   "metadata": {},
   "source": [
    "Now handle stop words ( common words like \"the\", \"is\", \"and\" etc. )"
   ]
  },
  {
   "cell_type": "code",
   "execution_count": 14,
   "id": "9d09278e",
   "metadata": {},
   "outputs": [],
   "source": [
    "#Stemming was incorrectly converting words so commented out that part"
   ]
  },
  {
   "cell_type": "code",
   "execution_count": 15,
   "id": "b08376e7",
   "metadata": {},
   "outputs": [
    {
     "ename": "TypeError",
     "evalue": "set.add() takes exactly one argument (2 given)",
     "output_type": "error",
     "traceback": [
      "\u001b[0;31m---------------------------------------------------------------------------\u001b[0m",
      "\u001b[0;31mTypeError\u001b[0m                                 Traceback (most recent call last)",
      "Cell \u001b[0;32mIn [15], line 21\u001b[0m\n\u001b[1;32m     17\u001b[0m     lemmatized_tokens \u001b[38;5;241m=\u001b[39m [lemmatizer\u001b[38;5;241m.\u001b[39mlemmatize(word) \u001b[38;5;28;01mfor\u001b[39;00m word \u001b[38;5;129;01min\u001b[39;00m tokens]\n\u001b[1;32m     19\u001b[0m     \u001b[38;5;28;01mreturn\u001b[39;00m \u001b[38;5;124m'\u001b[39m\u001b[38;5;124m \u001b[39m\u001b[38;5;124m'\u001b[39m\u001b[38;5;241m.\u001b[39mjoin(lemmatized_tokens)\n\u001b[0;32m---> 21\u001b[0m sentiment_df_preprocessed[\u001b[38;5;124m'\u001b[39m\u001b[38;5;124mprocessed_text3\u001b[39m\u001b[38;5;124m'\u001b[39m] \u001b[38;5;241m=\u001b[39m \u001b[43msentiment_df_preprocessed\u001b[49m\u001b[43m[\u001b[49m\u001b[38;5;124;43m'\u001b[39;49m\u001b[38;5;124;43mprocessed_text2\u001b[39;49m\u001b[38;5;124;43m'\u001b[39;49m\u001b[43m]\u001b[49m\u001b[38;5;241;43m.\u001b[39;49m\u001b[43mapply\u001b[49m\u001b[43m(\u001b[49m\u001b[43mpreprocess_text\u001b[49m\u001b[43m)\u001b[49m\n",
      "File \u001b[0;32m/Library/Frameworks/Python.framework/Versions/3.10/lib/python3.10/site-packages/pandas/core/series.py:4771\u001b[0m, in \u001b[0;36mSeries.apply\u001b[0;34m(self, func, convert_dtype, args, **kwargs)\u001b[0m\n\u001b[1;32m   4661\u001b[0m \u001b[38;5;28;01mdef\u001b[39;00m \u001b[38;5;21mapply\u001b[39m(\n\u001b[1;32m   4662\u001b[0m     \u001b[38;5;28mself\u001b[39m,\n\u001b[1;32m   4663\u001b[0m     func: AggFuncType,\n\u001b[0;32m   (...)\u001b[0m\n\u001b[1;32m   4666\u001b[0m     \u001b[38;5;241m*\u001b[39m\u001b[38;5;241m*\u001b[39mkwargs,\n\u001b[1;32m   4667\u001b[0m ) \u001b[38;5;241m-\u001b[39m\u001b[38;5;241m>\u001b[39m DataFrame \u001b[38;5;241m|\u001b[39m Series:\n\u001b[1;32m   4668\u001b[0m     \u001b[38;5;124;03m\"\"\"\u001b[39;00m\n\u001b[1;32m   4669\u001b[0m \u001b[38;5;124;03m    Invoke function on values of Series.\u001b[39;00m\n\u001b[1;32m   4670\u001b[0m \n\u001b[0;32m   (...)\u001b[0m\n\u001b[1;32m   4769\u001b[0m \u001b[38;5;124;03m    dtype: float64\u001b[39;00m\n\u001b[1;32m   4770\u001b[0m \u001b[38;5;124;03m    \"\"\"\u001b[39;00m\n\u001b[0;32m-> 4771\u001b[0m     \u001b[38;5;28;01mreturn\u001b[39;00m \u001b[43mSeriesApply\u001b[49m\u001b[43m(\u001b[49m\u001b[38;5;28;43mself\u001b[39;49m\u001b[43m,\u001b[49m\u001b[43m \u001b[49m\u001b[43mfunc\u001b[49m\u001b[43m,\u001b[49m\u001b[43m \u001b[49m\u001b[43mconvert_dtype\u001b[49m\u001b[43m,\u001b[49m\u001b[43m \u001b[49m\u001b[43margs\u001b[49m\u001b[43m,\u001b[49m\u001b[43m \u001b[49m\u001b[43mkwargs\u001b[49m\u001b[43m)\u001b[49m\u001b[38;5;241;43m.\u001b[39;49m\u001b[43mapply\u001b[49m\u001b[43m(\u001b[49m\u001b[43m)\u001b[49m\n",
      "File \u001b[0;32m/Library/Frameworks/Python.framework/Versions/3.10/lib/python3.10/site-packages/pandas/core/apply.py:1123\u001b[0m, in \u001b[0;36mSeriesApply.apply\u001b[0;34m(self)\u001b[0m\n\u001b[1;32m   1120\u001b[0m     \u001b[38;5;28;01mreturn\u001b[39;00m \u001b[38;5;28mself\u001b[39m\u001b[38;5;241m.\u001b[39mapply_str()\n\u001b[1;32m   1122\u001b[0m \u001b[38;5;66;03m# self.f is Callable\u001b[39;00m\n\u001b[0;32m-> 1123\u001b[0m \u001b[38;5;28;01mreturn\u001b[39;00m \u001b[38;5;28;43mself\u001b[39;49m\u001b[38;5;241;43m.\u001b[39;49m\u001b[43mapply_standard\u001b[49m\u001b[43m(\u001b[49m\u001b[43m)\u001b[49m\n",
      "File \u001b[0;32m/Library/Frameworks/Python.framework/Versions/3.10/lib/python3.10/site-packages/pandas/core/apply.py:1174\u001b[0m, in \u001b[0;36mSeriesApply.apply_standard\u001b[0;34m(self)\u001b[0m\n\u001b[1;32m   1172\u001b[0m     \u001b[38;5;28;01melse\u001b[39;00m:\n\u001b[1;32m   1173\u001b[0m         values \u001b[38;5;241m=\u001b[39m obj\u001b[38;5;241m.\u001b[39mastype(\u001b[38;5;28mobject\u001b[39m)\u001b[38;5;241m.\u001b[39m_values\n\u001b[0;32m-> 1174\u001b[0m         mapped \u001b[38;5;241m=\u001b[39m \u001b[43mlib\u001b[49m\u001b[38;5;241;43m.\u001b[39;49m\u001b[43mmap_infer\u001b[49m\u001b[43m(\u001b[49m\n\u001b[1;32m   1175\u001b[0m \u001b[43m            \u001b[49m\u001b[43mvalues\u001b[49m\u001b[43m,\u001b[49m\n\u001b[1;32m   1176\u001b[0m \u001b[43m            \u001b[49m\u001b[43mf\u001b[49m\u001b[43m,\u001b[49m\n\u001b[1;32m   1177\u001b[0m \u001b[43m            \u001b[49m\u001b[43mconvert\u001b[49m\u001b[38;5;241;43m=\u001b[39;49m\u001b[38;5;28;43mself\u001b[39;49m\u001b[38;5;241;43m.\u001b[39;49m\u001b[43mconvert_dtype\u001b[49m\u001b[43m,\u001b[49m\n\u001b[1;32m   1178\u001b[0m \u001b[43m        \u001b[49m\u001b[43m)\u001b[49m\n\u001b[1;32m   1180\u001b[0m \u001b[38;5;28;01mif\u001b[39;00m \u001b[38;5;28mlen\u001b[39m(mapped) \u001b[38;5;129;01mand\u001b[39;00m \u001b[38;5;28misinstance\u001b[39m(mapped[\u001b[38;5;241m0\u001b[39m], ABCSeries):\n\u001b[1;32m   1181\u001b[0m     \u001b[38;5;66;03m# GH#43986 Need to do list(mapped) in order to get treated as nested\u001b[39;00m\n\u001b[1;32m   1182\u001b[0m     \u001b[38;5;66;03m#  See also GH#25959 regarding EA support\u001b[39;00m\n\u001b[1;32m   1183\u001b[0m     \u001b[38;5;28;01mreturn\u001b[39;00m obj\u001b[38;5;241m.\u001b[39m_constructor_expanddim(\u001b[38;5;28mlist\u001b[39m(mapped), index\u001b[38;5;241m=\u001b[39mobj\u001b[38;5;241m.\u001b[39mindex)\n",
      "File \u001b[0;32m/Library/Frameworks/Python.framework/Versions/3.10/lib/python3.10/site-packages/pandas/_libs/lib.pyx:2924\u001b[0m, in \u001b[0;36mpandas._libs.lib.map_infer\u001b[0;34m()\u001b[0m\n",
      "Cell \u001b[0;32mIn [15], line 8\u001b[0m, in \u001b[0;36mpreprocess_text\u001b[0;34m(text)\u001b[0m\n\u001b[1;32m      6\u001b[0m \u001b[38;5;66;03m# Remove stop words\u001b[39;00m\n\u001b[1;32m      7\u001b[0m stop_words \u001b[38;5;241m=\u001b[39m \u001b[38;5;28mset\u001b[39m(stopwords\u001b[38;5;241m.\u001b[39mwords(\u001b[38;5;124m'\u001b[39m\u001b[38;5;124menglish\u001b[39m\u001b[38;5;124m'\u001b[39m))\n\u001b[0;32m----> 8\u001b[0m \u001b[43mstop_words\u001b[49m\u001b[38;5;241;43m.\u001b[39;49m\u001b[43madd\u001b[49m\u001b[43m(\u001b[49m\u001b[38;5;124;43m'\u001b[39;49m\u001b[38;5;124;43mvinci\u001b[39;49m\u001b[38;5;124;43m'\u001b[39;49m\u001b[43m,\u001b[49m\u001b[38;5;124;43m'\u001b[39;49m\u001b[38;5;124;43mbrokeback\u001b[39;49m\u001b[38;5;124;43m'\u001b[39;49m\u001b[43m)\u001b[49m\n\u001b[1;32m      9\u001b[0m tokens \u001b[38;5;241m=\u001b[39m [word \u001b[38;5;28;01mfor\u001b[39;00m word \u001b[38;5;129;01min\u001b[39;00m tokens \u001b[38;5;28;01mif\u001b[39;00m word\u001b[38;5;241m.\u001b[39mlower() \u001b[38;5;129;01mnot\u001b[39;00m \u001b[38;5;129;01min\u001b[39;00m stop_words]\n\u001b[1;32m     11\u001b[0m \u001b[38;5;66;03m# Stemming\u001b[39;00m\n\u001b[1;32m     12\u001b[0m \u001b[38;5;66;03m#stemmer = PorterStemmer()\u001b[39;00m\n\u001b[1;32m     13\u001b[0m \u001b[38;5;66;03m#stemmed_tokens = [stemmer.stem(word) for word in tokens]\u001b[39;00m\n\u001b[1;32m     14\u001b[0m \n\u001b[1;32m     15\u001b[0m \u001b[38;5;66;03m# Lemmatization\u001b[39;00m\n",
      "\u001b[0;31mTypeError\u001b[0m: set.add() takes exactly one argument (2 given)"
     ]
    }
   ],
   "source": [
    "#9, 10, 11\n",
    "def preprocess_text(text):\n",
    "    # Tokenization\n",
    "    tokens = word_tokenize(text)\n",
    "    \n",
    "    # Remove stop words\n",
    "    stop_words = set(stopwords.words('english'))\n",
    "    stop_words.add('vinci','brokeback')\n",
    "    tokens = [word for word in tokens if word.lower() not in stop_words]\n",
    "    \n",
    "    # Stemming\n",
    "    #stemmer = PorterStemmer()\n",
    "    #stemmed_tokens = [stemmer.stem(word) for word in tokens]\n",
    "    \n",
    "    # Lemmatization\n",
    "    lemmatizer = WordNetLemmatizer()\n",
    "    lemmatized_tokens = [lemmatizer.lemmatize(word) for word in tokens]\n",
    "    \n",
    "    return ' '.join(lemmatized_tokens)\n",
    "\n",
    "sentiment_df_preprocessed['processed_text3'] = sentiment_df_preprocessed['processed_text2'].apply(preprocess_text)"
   ]
  },
  {
   "cell_type": "markdown",
   "id": "5fb2076c",
   "metadata": {},
   "source": [
    "<h1><span style=\"color:red\"> Step2:- Train-Test-Split </span> </h1> <h3> "
   ]
  },
  {
   "cell_type": "code",
   "execution_count": null,
   "id": "5dd2cb47",
   "metadata": {},
   "outputs": [],
   "source": [
    "X=sentiment_df_preprocessed['processed_text3']\n",
    "y=sentiment_df_preprocessed['sentiment']\n",
    "X_train,X_test,y_train,y_test=train_test_split(X,y,train_size=0.8,random_state=42)"
   ]
  },
  {
   "cell_type": "markdown",
   "id": "e974dac8",
   "metadata": {},
   "source": [
    "<h1><span style=\"color:red\"> Step3:- Vectorization </span> </h1> <h3> The first step creating BoW is to create a dictionary of all words used in the corpus.</h3> In this step we will not worry about grammar and only occurrence of the word is captured."
   ]
  },
  {
   "cell_type": "markdown",
   "id": "310095ba",
   "metadata": {},
   "source": [
    "Convert each document to a vector that represents words available in the document. There are three ways to do that<br> <ol><li><b><span style=\"color:blue\">Count Vector Model-></span></b> count the occurrence of each word in the document.</li><li><b><span style=\"color:blue\">Term Frequency Vector Model-></span></b> the frequency of each word(term) in the document. that means number of occurrences of that word divided by total number of words</li><li><b><span style=\"color:blue\">Term Frequency-Inverse DocumentFrequency (TF-IDF) Model-></span></b> Shows the importance of a word to a document. It increases proportionally to the number of times a word apprears in the document and is reduced by the frequency of the word present in the corpus. </li></ol>"
   ]
  },
  {
   "cell_type": "code",
   "execution_count": null,
   "id": "a7dba9fb",
   "metadata": {},
   "outputs": [],
   "source": [
    "countVectorizer=CountVectorizer()\n",
    "bow_sparse_vector=countVectorizer.fit_transform(X_train) \n",
    "features=countVectorizer.get_feature_names_out()"
   ]
  },
  {
   "cell_type": "code",
   "execution_count": null,
   "id": "82231a2a",
   "metadata": {},
   "outputs": [],
   "source": [
    "bow_sparse_vector.shape"
   ]
  },
  {
   "cell_type": "code",
   "execution_count": null,
   "id": "08aa7fdd",
   "metadata": {},
   "outputs": [],
   "source": [
    "bow_sparse_vector.getnnz() #To count the total non zero elements in the sparse matrix"
   ]
  },
  {
   "cell_type": "code",
   "execution_count": null,
   "id": "77758771",
   "metadata": {},
   "outputs": [],
   "source": [
    "bow_dense_vector_df=pd.DataFrame(bow_sparse_vector.todense())\n",
    "bow_dense_vector_df.columns=features"
   ]
  },
  {
   "cell_type": "code",
   "execution_count": null,
   "id": "74d3a48c",
   "metadata": {},
   "outputs": [],
   "source": [
    "bow_dense_vector_df"
   ]
  },
  {
   "cell_type": "markdown",
   "id": "6e81bb8b",
   "metadata": {},
   "source": [
    "Lets try to analyze frequency of features using histogram"
   ]
  },
  {
   "cell_type": "code",
   "execution_count": null,
   "id": "ce1b10f9",
   "metadata": {},
   "outputs": [],
   "source": [
    "feature_counts=bow_dense_vector_df.sum(axis=0).to_frame().sort_values(by=0,ascending=False)\n",
    "len(feature_counts[feature_counts[0]>1])"
   ]
  },
  {
   "cell_type": "markdown",
   "id": "635cc427",
   "metadata": {},
   "source": [
    "👆 We can see only 562 tokens has more than one entry so we will go back to line number 17 and add this condition"
   ]
  },
  {
   "cell_type": "markdown",
   "id": "1977977e",
   "metadata": {},
   "source": [
    "🦋 We can also check token level sentiment by by Sentiment Lexicon or Token-Level Sentiment Association: To do Token-Level Sentiment Association we can associate sentiment labels or scores with individual tokens in our documents based on the sentiment of the overall document or sentence. For example, if a document is classified as positive, we can consider all tokens in that document as having positive sentiment. But this can give misleading result so we will skip this part."
   ]
  },
  {
   "cell_type": "markdown",
   "id": "c2d4bc9a",
   "metadata": {},
   "source": [
    "# visualization of count vector"
   ]
  },
  {
   "cell_type": "code",
   "execution_count": null,
   "id": "4b4f9ad1",
   "metadata": {
    "scrolled": true
   },
   "outputs": [],
   "source": [
    "feature_sums=bow_dense_vector_df.sum(axis=0)\n",
    "bin_edges=np.arange(0,feature_sums.max()+100,100)\n",
    "\n",
    "plt.figure(figsize=(10,8))\n",
    "plt.hist(feature_sums, bins=50, color='skyblue')\n",
    "plt.xlabel(\"Frequency Of Words\")\n",
    "plt.ylabel(\"Denisty\")\n",
    "plt.title('Histogram of Total Value OF feature')\n",
    "plt.xticks(bin_edges,rotation=90)  # Rotated x-axis labels for better readability\n",
    "plt.tight_layout()\n",
    "plt.show()"
   ]
  },
  {
   "cell_type": "markdown",
   "id": "4717446e",
   "metadata": {},
   "source": [
    "We can see most features have very rare occurrences (bin 0-50), now lets see how they are distributed"
   ]
  },
  {
   "cell_type": "code",
   "execution_count": null,
   "id": "513e0f26",
   "metadata": {},
   "outputs": [],
   "source": [
    "word_counts = bow_sparse_vector.sum(axis=1)\n",
    "plt.figure(figsize=(10,8))\n",
    "sns.histplot(word_counts, bins=30, kde=True, legend=False)\n",
    "plt.title('Distribution of Word Counts in Documents')\n",
    "plt.xlabel('Number of Words')\n",
    "plt.ylabel('Frequency')\n",
    "plt.show()"
   ]
  },
  {
   "cell_type": "code",
   "execution_count": null,
   "id": "4461a688",
   "metadata": {},
   "outputs": [],
   "source": [
    "# Visualize word cloud for the most common words in the corpus\n",
    "word_frequencies = dict(zip(features, bow_sparse_vector.sum(axis=0).tolist()[0]))\n",
    "wordcloud = WordCloud(width=800, height=800, background_color='white').generate_from_frequencies(word_frequencies)\n",
    "plt.figure(figsize=(10, 8))\n",
    "plt.imshow(wordcloud, interpolation='bilinear')\n",
    "plt.title('Word Cloud for the Corpus')\n",
    "plt.axis('off')\n",
    "plt.show()"
   ]
  },
  {
   "cell_type": "code",
   "execution_count": null,
   "id": "eb6e66a7",
   "metadata": {
    "scrolled": true
   },
   "outputs": [],
   "source": [
    "word_frequencies = np.array(bow_sparse_vector.sum(axis=0)).reshape(-1)\n",
    "\n",
    "top_indices = np.argsort(-word_frequencies)[:10]\n",
    "bottom_indices = np.argsort(word_frequencies)[:10]\n",
    "\n",
    "# Extract the top 10 most and least frequent words\n",
    "top_words = [features[idx] for idx in top_indices]\n",
    "bottom_words = [features[idx] for idx in bottom_indices]\n",
    "\n",
    "# Plot the top words\n",
    "plt.figure(figsize=(10, 6))\n",
    "sns.barplot(x=top_words, y=word_frequencies[top_indices], palette=\"viridis\")\n",
    "plt.title('Top 10 Most Used Words')\n",
    "plt.xlabel('Words')\n",
    "plt.ylabel('Frequency')\n",
    "plt.xticks(rotation=45, ha='right')\n",
    "plt.show()\n",
    "\n",
    "# Plot the least used words\n",
    "plt.figure(figsize=(10, 6))\n",
    "sns.barplot(x=bottom_words, y=word_frequencies[bottom_indices], palette=\"inferno\")\n",
    "plt.title('Top 10 Least Used Words')\n",
    "plt.xlabel('Words')\n",
    "plt.ylabel('Frequency')\n",
    "plt.xticks(rotation=45, ha='right')\n",
    "plt.show()"
   ]
  },
  {
   "cell_type": "markdown",
   "id": "995e6b62",
   "metadata": {},
   "source": [
    "Observation:- We can see all movie names are most frequented words but we know they do not show any sentiment we need to find words which shows sentiment about these movies. so we will manually add these words in our stop word list in line number 15 ( ln[15] )"
   ]
  },
  {
   "cell_type": "markdown",
   "id": "64388db2",
   "metadata": {},
   "source": [
    "<h1><span style=\"color:red\"> Step4:- Model Building </span> </h1> <h3>Training and Evaluation"
   ]
  },
  {
   "cell_type": "code",
   "execution_count": null,
   "id": "d8ee22f5",
   "metadata": {},
   "outputs": [],
   "source": [
    "bow_dense_vector_df.shape,y_train.shape"
   ]
  },
  {
   "cell_type": "code",
   "execution_count": null,
   "id": "54290179",
   "metadata": {},
   "outputs": [],
   "source": []
  }
 ],
 "metadata": {
  "kernelspec": {
   "display_name": "Python 3 (ipykernel)",
   "language": "python",
   "name": "python3"
  },
  "language_info": {
   "codemirror_mode": {
    "name": "ipython",
    "version": 3
   },
   "file_extension": ".py",
   "mimetype": "text/x-python",
   "name": "python",
   "nbconvert_exporter": "python",
   "pygments_lexer": "ipython3",
   "version": "3.10.8"
  }
 },
 "nbformat": 4,
 "nbformat_minor": 5
}

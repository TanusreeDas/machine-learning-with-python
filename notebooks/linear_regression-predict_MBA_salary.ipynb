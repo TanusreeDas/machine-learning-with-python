{
 "cells": [
  {
   "cell_type": "markdown",
   "id": "5447a31f",
   "metadata": {},
   "source": [
    "# Step 1:- Import Libraries, Read File, Understand Data \n",
    "(keep adding new libraries whenever a new library is required)"
   ]
  },
  {
   "cell_type": "code",
   "execution_count": 1,
   "id": "133aef11",
   "metadata": {},
   "outputs": [],
   "source": [
    "import pandas as pd\n",
    "import numpy as np\n",
    "import matplotlib.pyplot as plt\n",
    "import seaborn as sns\n",
    "import statsmodels.api as sm\n",
    "from sklearn.preprocessing import StandardScaler, PolynomialFeatures\n",
    "from statsmodels.sandbox.regression.predstd import wls_prediction_std\n",
    "from scipy.stats import shapiro\n",
    "from sklearn.model_selection import train_test_split,GridSearchCV,cross_val_score\n",
    "from sklearn.linear_model import LinearRegression,Lasso,Ridge\n",
    "from sklearn.neighbors import KNeighborsRegressor\n",
    "from sklearn.svm import SVR\n",
    "from sklearn.tree import plot_tree,DecisionTreeRegressor\n",
    "from sklearn.ensemble import RandomForestRegressor\n",
    "from sklearn.metrics import mean_absolute_error,mean_squared_error,r2_score\n",
    "\n",
    "#setting Numpy array print option to print decimal values upto 4 decimal places\n",
    "np.set_printoptions(precision=4,linewidth=100)\n",
    "%matplotlib inline"
   ]
  },
  {
   "cell_type": "code",
   "execution_count": 2,
   "id": "0f2547a9",
   "metadata": {},
   "outputs": [],
   "source": [
    "mba_salary_df=pd.read_csv('../data/MBA Salary.csv')"
   ]
  },
  {
   "cell_type": "code",
   "execution_count": 3,
   "id": "ae9271fd",
   "metadata": {},
   "outputs": [
    {
     "data": {
      "text/html": [
       "<div>\n",
       "<style scoped>\n",
       "    .dataframe tbody tr th:only-of-type {\n",
       "        vertical-align: middle;\n",
       "    }\n",
       "\n",
       "    .dataframe tbody tr th {\n",
       "        vertical-align: top;\n",
       "    }\n",
       "\n",
       "    .dataframe thead th {\n",
       "        text-align: right;\n",
       "    }\n",
       "</style>\n",
       "<table border=\"1\" class=\"dataframe\">\n",
       "  <thead>\n",
       "    <tr style=\"text-align: right;\">\n",
       "      <th></th>\n",
       "      <th>S. No.</th>\n",
       "      <th>Percentage in Grade 10</th>\n",
       "      <th>Salary</th>\n",
       "    </tr>\n",
       "  </thead>\n",
       "  <tbody>\n",
       "    <tr>\n",
       "      <th>0</th>\n",
       "      <td>1</td>\n",
       "      <td>62.00</td>\n",
       "      <td>270000</td>\n",
       "    </tr>\n",
       "    <tr>\n",
       "      <th>1</th>\n",
       "      <td>2</td>\n",
       "      <td>76.33</td>\n",
       "      <td>200000</td>\n",
       "    </tr>\n",
       "    <tr>\n",
       "      <th>2</th>\n",
       "      <td>3</td>\n",
       "      <td>72.00</td>\n",
       "      <td>240000</td>\n",
       "    </tr>\n",
       "    <tr>\n",
       "      <th>3</th>\n",
       "      <td>4</td>\n",
       "      <td>60.00</td>\n",
       "      <td>250000</td>\n",
       "    </tr>\n",
       "    <tr>\n",
       "      <th>4</th>\n",
       "      <td>5</td>\n",
       "      <td>61.00</td>\n",
       "      <td>180000</td>\n",
       "    </tr>\n",
       "  </tbody>\n",
       "</table>\n",
       "</div>"
      ],
      "text/plain": [
       "   S. No.  Percentage in Grade 10  Salary\n",
       "0       1                   62.00  270000\n",
       "1       2                   76.33  200000\n",
       "2       3                   72.00  240000\n",
       "3       4                   60.00  250000\n",
       "4       5                   61.00  180000"
      ]
     },
     "execution_count": 3,
     "metadata": {},
     "output_type": "execute_result"
    }
   ],
   "source": [
    "mba_salary_df.head(5)"
   ]
  },
  {
   "cell_type": "code",
   "execution_count": 4,
   "id": "b63eef05",
   "metadata": {
    "scrolled": true
   },
   "outputs": [
    {
     "data": {
      "text/html": [
       "<div>\n",
       "<style scoped>\n",
       "    .dataframe tbody tr th:only-of-type {\n",
       "        vertical-align: middle;\n",
       "    }\n",
       "\n",
       "    .dataframe tbody tr th {\n",
       "        vertical-align: top;\n",
       "    }\n",
       "\n",
       "    .dataframe thead th {\n",
       "        text-align: right;\n",
       "    }\n",
       "</style>\n",
       "<table border=\"1\" class=\"dataframe\">\n",
       "  <thead>\n",
       "    <tr style=\"text-align: right;\">\n",
       "      <th></th>\n",
       "      <th>S. No.</th>\n",
       "      <th>Percentage in Grade 10</th>\n",
       "      <th>Salary</th>\n",
       "    </tr>\n",
       "  </thead>\n",
       "  <tbody>\n",
       "    <tr>\n",
       "      <th>count</th>\n",
       "      <td>50.00000</td>\n",
       "      <td>50.000000</td>\n",
       "      <td>50.000000</td>\n",
       "    </tr>\n",
       "    <tr>\n",
       "      <th>mean</th>\n",
       "      <td>25.50000</td>\n",
       "      <td>63.922400</td>\n",
       "      <td>258192.000000</td>\n",
       "    </tr>\n",
       "    <tr>\n",
       "      <th>std</th>\n",
       "      <td>14.57738</td>\n",
       "      <td>9.859937</td>\n",
       "      <td>76715.790993</td>\n",
       "    </tr>\n",
       "    <tr>\n",
       "      <th>min</th>\n",
       "      <td>1.00000</td>\n",
       "      <td>37.330000</td>\n",
       "      <td>120000.000000</td>\n",
       "    </tr>\n",
       "    <tr>\n",
       "      <th>25%</th>\n",
       "      <td>13.25000</td>\n",
       "      <td>57.685000</td>\n",
       "      <td>204500.000000</td>\n",
       "    </tr>\n",
       "    <tr>\n",
       "      <th>50%</th>\n",
       "      <td>25.50000</td>\n",
       "      <td>64.700000</td>\n",
       "      <td>250000.000000</td>\n",
       "    </tr>\n",
       "    <tr>\n",
       "      <th>75%</th>\n",
       "      <td>37.75000</td>\n",
       "      <td>70.000000</td>\n",
       "      <td>300000.000000</td>\n",
       "    </tr>\n",
       "    <tr>\n",
       "      <th>max</th>\n",
       "      <td>50.00000</td>\n",
       "      <td>83.000000</td>\n",
       "      <td>450000.000000</td>\n",
       "    </tr>\n",
       "  </tbody>\n",
       "</table>\n",
       "</div>"
      ],
      "text/plain": [
       "         S. No.  Percentage in Grade 10         Salary\n",
       "count  50.00000               50.000000      50.000000\n",
       "mean   25.50000               63.922400  258192.000000\n",
       "std    14.57738                9.859937   76715.790993\n",
       "min     1.00000               37.330000  120000.000000\n",
       "25%    13.25000               57.685000  204500.000000\n",
       "50%    25.50000               64.700000  250000.000000\n",
       "75%    37.75000               70.000000  300000.000000\n",
       "max    50.00000               83.000000  450000.000000"
      ]
     },
     "execution_count": 4,
     "metadata": {},
     "output_type": "execute_result"
    }
   ],
   "source": [
    "mba_salary_df.describe()"
   ]
  },
  {
   "cell_type": "code",
   "execution_count": 5,
   "id": "fd10aa1f",
   "metadata": {},
   "outputs": [
    {
     "name": "stdout",
     "output_type": "stream",
     "text": [
      "<class 'pandas.core.frame.DataFrame'>\n",
      "RangeIndex: 50 entries, 0 to 49\n",
      "Data columns (total 3 columns):\n",
      " #   Column                  Non-Null Count  Dtype  \n",
      "---  ------                  --------------  -----  \n",
      " 0   S. No.                  50 non-null     int64  \n",
      " 1   Percentage in Grade 10  50 non-null     float64\n",
      " 2   Salary                  50 non-null     int64  \n",
      "dtypes: float64(1), int64(2)\n",
      "memory usage: 1.3 KB\n"
     ]
    }
   ],
   "source": [
    "mba_salary_df.info()"
   ]
  },
  {
   "cell_type": "code",
   "execution_count": 6,
   "id": "2ec7625f",
   "metadata": {},
   "outputs": [
    {
     "data": {
      "text/plain": [
       "S. No.                    0.000000\n",
       "Percentage in Grade 10   -0.188679\n",
       "Salary                    0.504584\n",
       "dtype: float64"
      ]
     },
     "execution_count": 6,
     "metadata": {},
     "output_type": "execute_result"
    }
   ],
   "source": [
    "mba_salary_df.skew()"
   ]
  },
  {
   "cell_type": "markdown",
   "id": "87914b48",
   "metadata": {},
   "source": [
    "Percentage in Grade 10\" column is lightly skewed to the left and \"Salary\" column is lightly skewed to the right."
   ]
  },
  {
   "cell_type": "code",
   "execution_count": 7,
   "id": "8568caa5",
   "metadata": {},
   "outputs": [
    {
     "name": "stdout",
     "output_type": "stream",
     "text": [
      "Shapiro-Wilk test statistic: 0.9828999042510986\n",
      "p-value: 0.6789257526397705\n",
      "Shapiro-Wilk test statistic: 0.9607375264167786\n",
      "p-value: 0.09545091539621353\n"
     ]
    }
   ],
   "source": [
    "shapiro_test_statistic, p_value = shapiro(mba_salary_df['Percentage in Grade 10'])\n",
    "print('Shapiro-Wilk test statistic:', shapiro_test_statistic)\n",
    "print('p-value:', p_value) #The Shapiro-Wilk test statistic is 0.983, which is close to 1, indicating\n",
    "#that the distribution is approximately normal. The p-value is 0.679, which\n",
    "#is greater than 0.05, indicating that the null hypothesis of normality cannot\n",
    "#be rejected at the 5% significance level. So the distribution is normal with little skewness to the left side.\n",
    "shapiro_test_statistic, p_value = shapiro(mba_salary_df['Salary'])\n",
    "print('Shapiro-Wilk test statistic:', shapiro_test_statistic)\n",
    "print('p-value:', p_value) #The Shapiro-Wilk test statistic is 0.961, which is close to 1, indicating\n",
    "#that the distribution is approximately normal. The p-value is 0.095, which\n",
    "#is greater than 0.05, indicating that the null hypothesis of normality cannot\n",
    "#be rejected at the 5% significance level. So the distribution is normal with little skewness to the right side."
   ]
  },
  {
   "cell_type": "markdown",
   "id": "ba9674f6",
   "metadata": {},
   "source": [
    "Lets try to visualize data to get more understanding."
   ]
  },
  {
   "cell_type": "markdown",
   "id": "b1e93e75",
   "metadata": {},
   "source": [
    "# Step 2:- Visualize Data\n",
    "To get an idea about the data and which model to apply\n",
    "<p>\n",
    "<b>1. Visualize Data</b><br>\n",
    "<b>2. Try to understand the distribution of the data</b>"
   ]
  },
  {
   "cell_type": "code",
   "execution_count": 8,
   "id": "7fcb547b",
   "metadata": {
    "scrolled": true
   },
   "outputs": [
    {
     "data": {
      "image/png": "[encoded data removed]",
      "text/plain": [
       "<Figure size 640x480 with 1 Axes>"
      ]
     },
     "metadata": {},
     "output_type": "display_data"
    }
   ],
   "source": [
    "sns.histplot(data=mba_salary_df, x='Percentage in Grade 10', kde=True)\n",
    "plt.show()"
   ]
  },
  {
   "cell_type": "code",
   "execution_count": 9,
   "id": "8b92fa2b",
   "metadata": {},
   "outputs": [
    {
     "data": {
      "image/png": "[encoded data removed]",
      "text/plain": [
       "<Figure size 640x480 with 1 Axes>"
      ]
     },
     "metadata": {},
     "output_type": "display_data"
    }
   ],
   "source": [
    "sns.histplot(data=mba_salary_df, x='Salary', kde=True)\n",
    "plt.show()"
   ]
  },
  {
   "cell_type": "markdown",
   "id": "fb1f1e11",
   "metadata": {},
   "source": [
    "37.33 is a passing mark so we will consider it is a valid data. Using scatter plot we will try to find the pattern in the data."
   ]
  },
  {
   "cell_type": "code",
   "execution_count": 10,
   "id": "bda6895e",
   "metadata": {},
   "outputs": [
    {
     "data": {
      "text/plain": [
       "<Axes: xlabel='Percentage in Grade 10', ylabel='Salary'>"
      ]
     },
     "execution_count": 10,
     "metadata": {},
     "output_type": "execute_result"
    },
    {
     "data": {
      "image/png": "[encoded data removed]",
      "text/plain": [
       "<Figure size 640x480 with 1 Axes>"
      ]
     },
     "metadata": {},
     "output_type": "display_data"
    }
   ],
   "source": [
    "sns.regplot(x='Percentage in Grade 10',y='Salary',data=mba_salary_df)"
   ]
  },
  {
   "cell_type": "code",
   "execution_count": 11,
   "id": "4e5dea97",
   "metadata": {},
   "outputs": [
    {
     "data": {
      "image/png": "[encoded data removed]",
      "text/plain": [
       "<Figure size 640x480 with 1 Axes>"
      ]
     },
     "metadata": {},
     "output_type": "display_data"
    }
   ],
   "source": [
    "sns.kdeplot(data=mba_salary_df['Percentage in Grade 10'], fill=True)\n",
    "plt.show()"
   ]
  },
  {
   "cell_type": "code",
   "execution_count": 12,
   "id": "dac84d0a",
   "metadata": {},
   "outputs": [
    {
     "data": {
      "image/png": "[encoded data removed]",
      "text/plain": [
       "<Figure size 640x480 with 1 Axes>"
      ]
     },
     "metadata": {},
     "output_type": "display_data"
    }
   ],
   "source": [
    "sns.kdeplot(data=mba_salary_df['Salary'], fill=True)\n",
    "plt.show()"
   ]
  },
  {
   "cell_type": "code",
   "execution_count": 13,
   "id": "d9580b64",
   "metadata": {},
   "outputs": [
    {
     "data": {
      "image/png": "[encoded data removed]",
      "text/plain": [
       "<Figure size 640x480 with 1 Axes>"
      ]
     },
     "metadata": {},
     "output_type": "display_data"
    }
   ],
   "source": [
    "plt.boxplot(mba_salary_df['Percentage in Grade 10']) #to check outliers\n",
    "plt.show()"
   ]
  },
  {
   "cell_type": "markdown",
   "id": "6f18fbca",
   "metadata": {},
   "source": [
    "# Step 3:- Split the data before any kind of preprocessing"
   ]
  },
  {
   "cell_type": "code",
   "execution_count": 14,
   "id": "a6db1f79",
   "metadata": {},
   "outputs": [],
   "source": [
    "#split the dataset into train and test set into 80:20 respectively\n",
    "train_X,test_X,train_y,test_y=train_test_split(mba_salary_df['Percentage in Grade 10'],mba_salary_df['Salary'],train_size=0.8,random_state=100)"
   ]
  },
  {
   "cell_type": "markdown",
   "id": "ef671982",
   "metadata": {},
   "source": [
    "# Step 4:- Preprocessing Data"
   ]
  },
  {
   "cell_type": "code",
   "execution_count": 15,
   "id": "9aeec1d7",
   "metadata": {
    "scrolled": true
   },
   "outputs": [
    {
     "data": {
      "text/plain": [
       "pandas.core.series.Series"
      ]
     },
     "execution_count": 15,
     "metadata": {},
     "output_type": "execute_result"
    }
   ],
   "source": [
    "type(test_y)"
   ]
  },
  {
   "cell_type": "markdown",
   "id": "e910c551",
   "metadata": {},
   "source": [
    "<h3>Ensure that the data does not contain any null values, and if so, manage them by either dropping or replacing the missing values.</h3>"
   ]
  },
  {
   "cell_type": "code",
   "execution_count": 16,
   "id": "1d7a9fa2",
   "metadata": {},
   "outputs": [
    {
     "data": {
      "text/html": [
       "<div>\n",
       "<style scoped>\n",
       "    .dataframe tbody tr th:only-of-type {\n",
       "        vertical-align: middle;\n",
       "    }\n",
       "\n",
       "    .dataframe tbody tr th {\n",
       "        vertical-align: top;\n",
       "    }\n",
       "\n",
       "    .dataframe thead th {\n",
       "        text-align: right;\n",
       "    }\n",
       "</style>\n",
       "<table border=\"1\" class=\"dataframe\">\n",
       "  <thead>\n",
       "    <tr style=\"text-align: right;\">\n",
       "      <th></th>\n",
       "      <th>S. No.</th>\n",
       "      <th>Percentage in Grade 10</th>\n",
       "      <th>Salary</th>\n",
       "    </tr>\n",
       "  </thead>\n",
       "  <tbody>\n",
       "  </tbody>\n",
       "</table>\n",
       "</div>"
      ],
      "text/plain": [
       "Empty DataFrame\n",
       "Columns: [S. No., Percentage in Grade 10, Salary]\n",
       "Index: []"
      ]
     },
     "execution_count": 16,
     "metadata": {},
     "output_type": "execute_result"
    }
   ],
   "source": [
    "mba_salary_df[mba_salary_df.isnull().any(axis=1)]"
   ]
  },
  {
   "cell_type": "markdown",
   "id": "b9083221",
   "metadata": {},
   "source": [
    "<h3>Identify and address any duplicate values that may exist in the data.</h3>"
   ]
  },
  {
   "cell_type": "code",
   "execution_count": 17,
   "id": "605d1f77",
   "metadata": {},
   "outputs": [
    {
     "name": "stdout",
     "output_type": "stream",
     "text": [
      "total numbers of duplicate data is= 24\n",
      "Duplicate values are...\n"
     ]
    },
    {
     "data": {
      "text/html": [
       "<div>\n",
       "<style scoped>\n",
       "    .dataframe tbody tr th:only-of-type {\n",
       "        vertical-align: middle;\n",
       "    }\n",
       "\n",
       "    .dataframe tbody tr th {\n",
       "        vertical-align: top;\n",
       "    }\n",
       "\n",
       "    .dataframe thead th {\n",
       "        text-align: right;\n",
       "    }\n",
       "</style>\n",
       "<table border=\"1\" class=\"dataframe\">\n",
       "  <thead>\n",
       "    <tr style=\"text-align: right;\">\n",
       "      <th></th>\n",
       "      <th>S. No.</th>\n",
       "      <th>Percentage in Grade 10</th>\n",
       "      <th>Salary</th>\n",
       "    </tr>\n",
       "  </thead>\n",
       "  <tbody>\n",
       "    <tr>\n",
       "      <th>21</th>\n",
       "      <td>22</td>\n",
       "      <td>50.0</td>\n",
       "      <td>260000</td>\n",
       "    </tr>\n",
       "    <tr>\n",
       "      <th>26</th>\n",
       "      <td>27</td>\n",
       "      <td>50.0</td>\n",
       "      <td>180000</td>\n",
       "    </tr>\n",
       "    <tr>\n",
       "      <th>39</th>\n",
       "      <td>40</td>\n",
       "      <td>52.0</td>\n",
       "      <td>200000</td>\n",
       "    </tr>\n",
       "    <tr>\n",
       "      <th>37</th>\n",
       "      <td>38</td>\n",
       "      <td>52.0</td>\n",
       "      <td>236000</td>\n",
       "    </tr>\n",
       "    <tr>\n",
       "      <th>23</th>\n",
       "      <td>24</td>\n",
       "      <td>52.0</td>\n",
       "      <td>120000</td>\n",
       "    </tr>\n",
       "    <tr>\n",
       "      <th>5</th>\n",
       "      <td>6</td>\n",
       "      <td>55.0</td>\n",
       "      <td>300000</td>\n",
       "    </tr>\n",
       "    <tr>\n",
       "      <th>32</th>\n",
       "      <td>33</td>\n",
       "      <td>55.0</td>\n",
       "      <td>300000</td>\n",
       "    </tr>\n",
       "    <tr>\n",
       "      <th>10</th>\n",
       "      <td>11</td>\n",
       "      <td>58.0</td>\n",
       "      <td>250000</td>\n",
       "    </tr>\n",
       "    <tr>\n",
       "      <th>28</th>\n",
       "      <td>29</td>\n",
       "      <td>58.0</td>\n",
       "      <td>360000</td>\n",
       "    </tr>\n",
       "    <tr>\n",
       "      <th>9</th>\n",
       "      <td>10</td>\n",
       "      <td>59.0</td>\n",
       "      <td>240000</td>\n",
       "    </tr>\n",
       "    <tr>\n",
       "      <th>19</th>\n",
       "      <td>20</td>\n",
       "      <td>59.0</td>\n",
       "      <td>224000</td>\n",
       "    </tr>\n",
       "    <tr>\n",
       "      <th>31</th>\n",
       "      <td>32</td>\n",
       "      <td>60.0</td>\n",
       "      <td>200000</td>\n",
       "    </tr>\n",
       "    <tr>\n",
       "      <th>3</th>\n",
       "      <td>4</td>\n",
       "      <td>60.0</td>\n",
       "      <td>250000</td>\n",
       "    </tr>\n",
       "    <tr>\n",
       "      <th>11</th>\n",
       "      <td>12</td>\n",
       "      <td>60.0</td>\n",
       "      <td>180000</td>\n",
       "    </tr>\n",
       "    <tr>\n",
       "      <th>12</th>\n",
       "      <td>13</td>\n",
       "      <td>66.0</td>\n",
       "      <td>428000</td>\n",
       "    </tr>\n",
       "    <tr>\n",
       "      <th>48</th>\n",
       "      <td>49</td>\n",
       "      <td>66.0</td>\n",
       "      <td>240000</td>\n",
       "    </tr>\n",
       "    <tr>\n",
       "      <th>14</th>\n",
       "      <td>15</td>\n",
       "      <td>68.0</td>\n",
       "      <td>300000</td>\n",
       "    </tr>\n",
       "    <tr>\n",
       "      <th>36</th>\n",
       "      <td>37</td>\n",
       "      <td>68.0</td>\n",
       "      <td>177600</td>\n",
       "    </tr>\n",
       "    <tr>\n",
       "      <th>7</th>\n",
       "      <td>8</td>\n",
       "      <td>68.0</td>\n",
       "      <td>235000</td>\n",
       "    </tr>\n",
       "    <tr>\n",
       "      <th>46</th>\n",
       "      <td>47</td>\n",
       "      <td>68.0</td>\n",
       "      <td>180000</td>\n",
       "    </tr>\n",
       "    <tr>\n",
       "      <th>47</th>\n",
       "      <td>48</td>\n",
       "      <td>69.0</td>\n",
       "      <td>270000</td>\n",
       "    </tr>\n",
       "    <tr>\n",
       "      <th>22</th>\n",
       "      <td>23</td>\n",
       "      <td>69.0</td>\n",
       "      <td>300000</td>\n",
       "    </tr>\n",
       "    <tr>\n",
       "      <th>18</th>\n",
       "      <td>19</td>\n",
       "      <td>70.0</td>\n",
       "      <td>231000</td>\n",
       "    </tr>\n",
       "    <tr>\n",
       "      <th>6</th>\n",
       "      <td>7</td>\n",
       "      <td>70.0</td>\n",
       "      <td>260000</td>\n",
       "    </tr>\n",
       "  </tbody>\n",
       "</table>\n",
       "</div>"
      ],
      "text/plain": [
       "    S. No.  Percentage in Grade 10  Salary\n",
       "21      22                    50.0  260000\n",
       "26      27                    50.0  180000\n",
       "39      40                    52.0  200000\n",
       "37      38                    52.0  236000\n",
       "23      24                    52.0  120000\n",
       "5        6                    55.0  300000\n",
       "32      33                    55.0  300000\n",
       "10      11                    58.0  250000\n",
       "28      29                    58.0  360000\n",
       "9       10                    59.0  240000\n",
       "19      20                    59.0  224000\n",
       "31      32                    60.0  200000\n",
       "3        4                    60.0  250000\n",
       "11      12                    60.0  180000\n",
       "12      13                    66.0  428000\n",
       "48      49                    66.0  240000\n",
       "14      15                    68.0  300000\n",
       "36      37                    68.0  177600\n",
       "7        8                    68.0  235000\n",
       "46      47                    68.0  180000\n",
       "47      48                    69.0  270000\n",
       "22      23                    69.0  300000\n",
       "18      19                    70.0  231000\n",
       "6        7                    70.0  260000"
      ]
     },
     "execution_count": 17,
     "metadata": {},
     "output_type": "execute_result"
    }
   ],
   "source": [
    "duplicate_percentage=mba_salary_df[mba_salary_df['Percentage in Grade 10'].duplicated(keep=False)]\n",
    "print('total numbers of duplicate data is=',duplicate_percentage[duplicate_percentage>1].shape[0])\n",
    "print('Duplicate values are...')\n",
    "duplicate_percentage[duplicate_percentage>1].sort_values(by='Percentage in Grade 10')"
   ]
  },
  {
   "cell_type": "markdown",
   "id": "f98d0385",
   "metadata": {},
   "source": [
    "It appears that half of the data is duplicated, with some entries exceeding four or five occurrences. However, these data points appear to be valid and cannot be discarded. Simultaneously, it is clear that predicting the output using only this feature is not feasible."
   ]
  },
  {
   "cell_type": "code",
   "execution_count": 18,
   "id": "0e1eec82",
   "metadata": {},
   "outputs": [
    {
     "data": {
      "text/html": [
       "<div>\n",
       "<style scoped>\n",
       "    .dataframe tbody tr th:only-of-type {\n",
       "        vertical-align: middle;\n",
       "    }\n",
       "\n",
       "    .dataframe tbody tr th {\n",
       "        vertical-align: top;\n",
       "    }\n",
       "\n",
       "    .dataframe thead th {\n",
       "        text-align: right;\n",
       "    }\n",
       "</style>\n",
       "<table border=\"1\" class=\"dataframe\">\n",
       "  <thead>\n",
       "    <tr style=\"text-align: right;\">\n",
       "      <th></th>\n",
       "      <th>S. No.</th>\n",
       "      <th>Percentage in Grade 10</th>\n",
       "      <th>Salary</th>\n",
       "    </tr>\n",
       "  </thead>\n",
       "  <tbody>\n",
       "    <tr>\n",
       "      <th>0</th>\n",
       "      <td>1</td>\n",
       "      <td>62.00</td>\n",
       "      <td>270000</td>\n",
       "    </tr>\n",
       "    <tr>\n",
       "      <th>1</th>\n",
       "      <td>2</td>\n",
       "      <td>76.33</td>\n",
       "      <td>200000</td>\n",
       "    </tr>\n",
       "  </tbody>\n",
       "</table>\n",
       "</div>"
      ],
      "text/plain": [
       "   S. No.  Percentage in Grade 10  Salary\n",
       "0       1                   62.00  270000\n",
       "1       2                   76.33  200000"
      ]
     },
     "execution_count": 18,
     "metadata": {},
     "output_type": "execute_result"
    }
   ],
   "source": [
    "mba_salary_df.head(2)"
   ]
  },
  {
   "cell_type": "markdown",
   "id": "d269e478",
   "metadata": {},
   "source": [
    "We can not see any visible problem in the data so we will skip this step"
   ]
  },
  {
   "cell_type": "markdown",
   "id": "6ecf98f4",
   "metadata": {},
   "source": [
    "<h3><span style=\"color: brown;\"> Common Executables </span>  </h3>These are used mutiple times"
   ]
  },
  {
   "cell_type": "markdown",
   "id": "0e1a7a64",
   "metadata": {},
   "source": [
    "2D Data conversion (Required For Models)"
   ]
  },
  {
   "cell_type": "code",
   "execution_count": 19,
   "id": "15da7c81",
   "metadata": {},
   "outputs": [],
   "source": [
    "mba_10_percentage_2D=mba_salary_df['Percentage in Grade 10'].values.reshape(-1,1)\n",
    "mba_salary_2D=mba_salary_df['Salary'].values.reshape(-1,1)\n",
    "train_X_2D=train_X.values.reshape(-1,1)\n",
    "train_y_2D=train_y.values.reshape(-1,1)\n",
    "test_X_2D=test_X.values.reshape(-1,1)\n",
    "test_y_2D=test_y.values.reshape(-1,1)"
   ]
  },
  {
   "cell_type": "code",
   "execution_count": 20,
   "id": "1cceabf8",
   "metadata": {},
   "outputs": [],
   "source": [
    "def print_prediction(test_y, pred_y, test_X):\n",
    "    results_actual = pd.DataFrame({'Actual': test_y}, index=test_X.index)\n",
    "    results_predicted = pd.DataFrame({'Predicted': pred_y}, index=test_X.index)\n",
    "    actual_percentage = pd.DataFrame({'10th Grade Percentage': test_X}, index=test_X.index)\n",
    "    # Concatenate DataFrames along columns (axis=1)\n",
    "    results = pd.concat([actual_percentage,results_actual, results_predicted], axis=1)\n",
    "\n",
    "    return results"
   ]
  },
  {
   "cell_type": "code",
   "execution_count": 21,
   "id": "eec17fa8",
   "metadata": {},
   "outputs": [],
   "source": [
    "def residual_check(test_y,pred_y):\n",
    "    mse_val=mean_squared_error(test_y,pred_y)\n",
    "    mae_val=mean_absolute_error(test_y,pred_y)\n",
    "    r2_val=r2_score(test_y,pred_y)\n",
    "    print(\"mse= \",mse_val,\", mae= \",mae_val,\" and r2_score= \",r2_val)\n",
    "    return mse_val,mae_val,r2_val"
   ]
  },
  {
   "cell_type": "code",
   "execution_count": 22,
   "id": "58fa0caa",
   "metadata": {},
   "outputs": [],
   "source": [
    "def compare_evaluation_metric(original_model,current_model):\n",
    "    mse_original=eval('mse_'+original_model)\n",
    "    mse_current=eval('mse_'+current_model)\n",
    "    mae_original=eval('mae_'+original_model)\n",
    "    mae_current=eval('mae_'+current_model)\n",
    "    r2_original=eval('r2_'+original_model)\n",
    "    r2_current=eval('r2_'+current_model)\n",
    "    print(\"MSE wise, \"+current_model+\" is better model than \"+original_model+\" model, MSE for \"+original_model+\" is= \" +str(mse_original) if mse_original-mse_current>0 else \"MSE wise \"+original_model+\" is better, it's MSE value is= \"+str(mse_original))\n",
    "    print(\"MAE wise, \"+current_model+\" is better model than \"+original_model+\" model, MAE for \"+original_model+\" is= \" +str(mae_original) if mae_original-mae_current>0 else \"MAE wise \"+original_model+\" is better, it's MAE value is= \"+str(mae_original))\n",
    "    print(\"R2 wise, \"+current_model+\" is better model than \"+original_model+\" model, R2 for \"+original_model+\" is= \" +str(r2_original) if r2_current-r2_original>0 else \"R2 wise \"+original_model+\" is better, it's R2 value is= \"+str(r2_original))"
   ]
  },
  {
   "cell_type": "code",
   "execution_count": 23,
   "id": "2bfa7d50",
   "metadata": {},
   "outputs": [],
   "source": [
    "def actual_vs_prediction_scatter_plot(test_y,pred_y):\n",
    "    plt.figure(figsize=(6, 4))\n",
    "    plt.scatter(test_y,pred_y, c='green',edgecolor='black',linewidths=1, alpha=0.75)\n",
    "    plt.title('Actual vs Predicted Salary')\n",
    "    plt.xlabel('Actual Salary')\n",
    "    plt.ylabel('Predicted Salary')\n",
    "    plt.show()"
   ]
  },
  {
   "cell_type": "markdown",
   "id": "0175faac",
   "metadata": {},
   "source": [
    "# Step 5:- Find Correct Model"
   ]
  },
  {
   "cell_type": "markdown",
   "id": "ae3fb6bc",
   "metadata": {},
   "source": [
    "Decide what kind of model we should apply"
   ]
  },
  {
   "cell_type": "code",
   "execution_count": 24,
   "id": "9c57b3fc",
   "metadata": {
    "scrolled": true
   },
   "outputs": [
    {
     "data": {
      "text/plain": [
       "0.3953673071251282"
      ]
     },
     "execution_count": 24,
     "metadata": {},
     "output_type": "execute_result"
    }
   ],
   "source": [
    "mba_salary_df['Percentage in Grade 10'].corr(mba_salary_df['Salary'])"
   ]
  },
  {
   "cell_type": "markdown",
   "id": "7494fbb0",
   "metadata": {},
   "source": [
    "The data is numeric with positively correlation. We will start with linear regression model."
   ]
  },
  {
   "cell_type": "markdown",
   "id": "e905ef9c",
   "metadata": {},
   "source": [
    "First we will use statsmodels.api which is used for statistics regression model, in this model we need to add intercept so that model can perform better."
   ]
  },
  {
   "cell_type": "markdown",
   "id": "ce2b688d",
   "metadata": {},
   "source": [
    "<h2><span style=\"color: red;\"> Model 1:- </span> Statistics Ordinary Least Square </h2>Baseline Model- Ordinary Least Square Model"
   ]
  },
  {
   "cell_type": "code",
   "execution_count": 25,
   "id": "ae4c9578",
   "metadata": {},
   "outputs": [
    {
     "data": {
      "text/html": [
       "<table class=\"simpletable\">\n",
       "<tr>\n",
       "        <td>Model:</td>               <td>OLS</td>         <td>Adj. R-squared:</td>      <td>0.190</td>  \n",
       "</tr>\n",
       "<tr>\n",
       "  <td>Dependent Variable:</td>      <td>Salary</td>             <td>AIC:</td>          <td>1008.8680</td>\n",
       "</tr>\n",
       "<tr>\n",
       "         <td>Date:</td>        <td>2024-01-08 08:07</td>        <td>BIC:</td>          <td>1012.2458</td>\n",
       "</tr>\n",
       "<tr>\n",
       "   <td>No. Observations:</td>         <td>40</td>          <td>Log-Likelihood:</td>     <td>-502.43</td> \n",
       "</tr>\n",
       "<tr>\n",
       "       <td>Df Model:</td>              <td>1</td>           <td>F-statistic:</td>        <td>10.16</td>  \n",
       "</tr>\n",
       "<tr>\n",
       "     <td>Df Residuals:</td>           <td>38</td>        <td>Prob (F-statistic):</td>   <td>0.00287</td> \n",
       "</tr>\n",
       "<tr>\n",
       "      <td>R-squared:</td>            <td>0.211</td>            <td>Scale:</td>        <td>5.0121e+09</td>\n",
       "</tr>\n",
       "</table>\n",
       "<table class=\"simpletable\">\n",
       "<tr>\n",
       "             <td></td>               <th>Coef.</th>    <th>Std.Err.</th>     <th>t</th>    <th>P>|t|</th>    <th>[0.025</th>      <th>0.975]</th>   \n",
       "</tr>\n",
       "<tr>\n",
       "  <th>const</th>                  <td>30587.2857</td> <td>71869.4497</td> <td>0.4256</td> <td>0.6728</td> <td>-114904.8089</td> <td>176079.3802</td>\n",
       "</tr>\n",
       "<tr>\n",
       "  <th>Percentage in Grade 10</th>  <td>3560.5874</td>  <td>1116.9258</td> <td>3.1878</td> <td>0.0029</td>   <td>1299.4892</td>   <td>5821.6855</td> \n",
       "</tr>\n",
       "</table>\n",
       "<table class=\"simpletable\">\n",
       "<tr>\n",
       "     <td>Omnibus:</td>    <td>2.048</td>  <td>Durbin-Watson:</td>   <td>2.611</td>\n",
       "</tr>\n",
       "<tr>\n",
       "  <td>Prob(Omnibus):</td> <td>0.359</td> <td>Jarque-Bera (JB):</td> <td>1.724</td>\n",
       "</tr>\n",
       "<tr>\n",
       "       <td>Skew:</td>     <td>0.369</td>     <td>Prob(JB):</td>     <td>0.422</td>\n",
       "</tr>\n",
       "<tr>\n",
       "     <td>Kurtosis:</td>   <td>2.300</td>  <td>Condition No.:</td>    <td>413</td> \n",
       "</tr>\n",
       "</table><br/>\n",
       "Notes:<br/>\n",
       "[1] Standard Errors assume that the covariance matrix of the errors is correctly specified."
      ],
      "text/latex": [
       "\\begin{table}\n",
       "\\caption{Results: Ordinary least squares}\n",
       "\\label{}\n",
       "\\begin{center}\n",
       "\\begin{tabular}{llll}\n",
       "\\hline\n",
       "Model:              & OLS              & Adj. R-squared:     & 0.190       \\\\\n",
       "Dependent Variable: & Salary           & AIC:                & 1008.8680   \\\\\n",
       "Date:               & 2024-01-08 08:07 & BIC:                & 1012.2458   \\\\\n",
       "No. Observations:   & 40               & Log-Likelihood:     & -502.43     \\\\\n",
       "Df Model:           & 1                & F-statistic:        & 10.16       \\\\\n",
       "Df Residuals:       & 38               & Prob (F-statistic): & 0.00287     \\\\\n",
       "R-squared:          & 0.211            & Scale:              & 5.0121e+09  \\\\\n",
       "\\hline\n",
       "\\end{tabular}\n",
       "\\end{center}\n",
       "\n",
       "\\begin{center}\n",
       "\\begin{tabular}{lrrrrrr}\n",
       "\\hline\n",
       "                       &      Coef. &   Std.Err. &      t & P$> |$t$|$ &       [0.025 &      0.975]  \\\\\n",
       "\\hline\n",
       "const                  & 30587.2857 & 71869.4497 & 0.4256 &      0.6728 & -114904.8089 & 176079.3802  \\\\\n",
       "Percentage in Grade 10 &  3560.5874 &  1116.9258 & 3.1878 &      0.0029 &    1299.4892 &   5821.6855  \\\\\n",
       "\\hline\n",
       "\\end{tabular}\n",
       "\\end{center}\n",
       "\n",
       "\\begin{center}\n",
       "\\begin{tabular}{llll}\n",
       "\\hline\n",
       "Omnibus:       & 2.048 & Durbin-Watson:    & 2.611  \\\\\n",
       "Prob(Omnibus): & 0.359 & Jarque-Bera (JB): & 1.724  \\\\\n",
       "Skew:          & 0.369 & Prob(JB):         & 0.422  \\\\\n",
       "Kurtosis:      & 2.300 & Condition No.:    & 413    \\\\\n",
       "\\hline\n",
       "\\end{tabular}\n",
       "\\end{center}\n",
       "\\end{table}\n",
       "\\bigskip\n",
       "Notes: \\newline \n",
       "[1] Standard Errors assume that the covariance matrix of the errors is correctly specified."
      ],
      "text/plain": [
       "<class 'statsmodels.iolib.summary2.Summary'>\n",
       "\"\"\"\n",
       "                          Results: Ordinary least squares\n",
       "===================================================================================\n",
       "Model:                    OLS                   Adj. R-squared:          0.190     \n",
       "Dependent Variable:       Salary                AIC:                     1008.8680 \n",
       "Date:                     2024-01-08 08:07      BIC:                     1012.2458 \n",
       "No. Observations:         40                    Log-Likelihood:          -502.43   \n",
       "Df Model:                 1                     F-statistic:             10.16     \n",
       "Df Residuals:             38                    Prob (F-statistic):      0.00287   \n",
       "R-squared:                0.211                 Scale:                   5.0121e+09\n",
       "-----------------------------------------------------------------------------------\n",
       "                         Coef.     Std.Err.    t    P>|t|     [0.025       0.975]  \n",
       "-----------------------------------------------------------------------------------\n",
       "const                  30587.2857 71869.4497 0.4256 0.6728 -114904.8089 176079.3802\n",
       "Percentage in Grade 10  3560.5874  1116.9258 3.1878 0.0029    1299.4892   5821.6855\n",
       "-----------------------------------------------------------------------------------\n",
       "Omnibus:                    2.048              Durbin-Watson:                 2.611\n",
       "Prob(Omnibus):              0.359              Jarque-Bera (JB):              1.724\n",
       "Skew:                       0.369              Prob(JB):                      0.422\n",
       "Kurtosis:                   2.300              Condition No.:                 413  \n",
       "===================================================================================\n",
       "Notes:\n",
       "[1] Standard Errors assume that the covariance matrix of the errors is correctly\n",
       "specified.\n",
       "\"\"\""
      ]
     },
     "execution_count": 25,
     "metadata": {},
     "output_type": "execute_result"
    }
   ],
   "source": [
    "X=sm.add_constant(train_X) #feature\n",
    "mba_reg_model_ols=sm.OLS(train_y,X)\n",
    "#Fit the regression model\n",
    "mba_reg_model=mba_reg_model_ols.fit()\n",
    "mba_reg_model.summary2()"
   ]
  },
  {
   "cell_type": "markdown",
   "id": "e66aa0a4",
   "metadata": {},
   "source": [
    "<b>Observation:-</b> <br>\n",
    "1. the generated equation is , salary=30587.285652+3560.587383*\"Percentage in Grade 10\"<br>\n",
    "2. different value in random_state parameter value is giving different equation and we can not use gridsearchcv to findout best value for random_state.<br>\n",
    "3. R-squared value is .211, that means 21.1% of the variation in salary.<br>\n",
    "4. But for const, p value is higher than 0.5 and if we change randome state=160 then p values drops below 0.5 and in this case equation will be salary=124947.137284+2023.8031*\"Percentage in Grade 10\".<br>\n",
    "5. We will test the regression model using our test data.\n"
   ]
  },
  {
   "cell_type": "markdown",
   "id": "e6dc4ce9",
   "metadata": {},
   "source": [
    "<h3>wls_prediction_std is a function which helps use to get the prediction interval. It provides a range within which a new observation is likely to fall based on the input data. the wider the prediction interval, the greater the uncertainity in predicting a new data points.</h3>"
   ]
  },
  {
   "cell_type": "code",
   "execution_count": 26,
   "id": "2eb0a53a",
   "metadata": {},
   "outputs": [
    {
     "data": {
      "text/html": [
       "<div>\n",
       "<style scoped>\n",
       "    .dataframe tbody tr th:only-of-type {\n",
       "        vertical-align: middle;\n",
       "    }\n",
       "\n",
       "    .dataframe tbody tr th {\n",
       "        vertical-align: top;\n",
       "    }\n",
       "\n",
       "    .dataframe thead th {\n",
       "        text-align: right;\n",
       "    }\n",
       "</style>\n",
       "<table border=\"1\" class=\"dataframe\">\n",
       "  <thead>\n",
       "    <tr style=\"text-align: right;\">\n",
       "      <th></th>\n",
       "      <th>10th Grade Percentage</th>\n",
       "      <th>Actual</th>\n",
       "      <th>Predicted</th>\n",
       "      <th>predict_y_left</th>\n",
       "      <th>predict_y_right</th>\n",
       "    </tr>\n",
       "  </thead>\n",
       "  <tbody>\n",
       "    <tr>\n",
       "      <th>5</th>\n",
       "      <td>55.0</td>\n",
       "      <td>300000</td>\n",
       "      <td>226419.591709</td>\n",
       "      <td>80034.712504</td>\n",
       "      <td>372804.470914</td>\n",
       "    </tr>\n",
       "    <tr>\n",
       "      <th>6</th>\n",
       "      <td>70.0</td>\n",
       "      <td>260000</td>\n",
       "      <td>279828.402452</td>\n",
       "      <td>134000.158922</td>\n",
       "      <td>425656.645982</td>\n",
       "    </tr>\n",
       "    <tr>\n",
       "      <th>20</th>\n",
       "      <td>63.0</td>\n",
       "      <td>120000</td>\n",
       "      <td>254904.290772</td>\n",
       "      <td>109799.228033</td>\n",
       "      <td>400009.353511</td>\n",
       "    </tr>\n",
       "    <tr>\n",
       "      <th>28</th>\n",
       "      <td>58.0</td>\n",
       "      <td>360000</td>\n",
       "      <td>237101.353858</td>\n",
       "      <td>91458.127864</td>\n",
       "      <td>382744.579851</td>\n",
       "    </tr>\n",
       "    <tr>\n",
       "      <th>33</th>\n",
       "      <td>78.0</td>\n",
       "      <td>330000</td>\n",
       "      <td>308313.101515</td>\n",
       "      <td>159585.704802</td>\n",
       "      <td>457040.498228</td>\n",
       "    </tr>\n",
       "    <tr>\n",
       "      <th>36</th>\n",
       "      <td>68.0</td>\n",
       "      <td>177600</td>\n",
       "      <td>272707.227686</td>\n",
       "      <td>127260.889037</td>\n",
       "      <td>418153.566335</td>\n",
       "    </tr>\n",
       "    <tr>\n",
       "      <th>37</th>\n",
       "      <td>52.0</td>\n",
       "      <td>236000</td>\n",
       "      <td>215737.829560</td>\n",
       "      <td>68302.614607</td>\n",
       "      <td>363173.044513</td>\n",
       "    </tr>\n",
       "    <tr>\n",
       "      <th>42</th>\n",
       "      <td>74.4</td>\n",
       "      <td>300000</td>\n",
       "      <td>295494.986937</td>\n",
       "      <td>148340.059592</td>\n",
       "      <td>442649.914281</td>\n",
       "    </tr>\n",
       "    <tr>\n",
       "      <th>43</th>\n",
       "      <td>74.5</td>\n",
       "      <td>250000</td>\n",
       "      <td>295851.045675</td>\n",
       "      <td>148658.290090</td>\n",
       "      <td>443043.801260</td>\n",
       "    </tr>\n",
       "    <tr>\n",
       "      <th>49</th>\n",
       "      <td>60.8</td>\n",
       "      <td>300000</td>\n",
       "      <td>247070.998530</td>\n",
       "      <td>101837.281187</td>\n",
       "      <td>392304.715873</td>\n",
       "    </tr>\n",
       "  </tbody>\n",
       "</table>\n",
       "</div>"
      ],
      "text/plain": [
       "    10th Grade Percentage  Actual      Predicted  predict_y_left  \\\n",
       "5                    55.0  300000  226419.591709    80034.712504   \n",
       "6                    70.0  260000  279828.402452   134000.158922   \n",
       "20                   63.0  120000  254904.290772   109799.228033   \n",
       "28                   58.0  360000  237101.353858    91458.127864   \n",
       "33                   78.0  330000  308313.101515   159585.704802   \n",
       "36                   68.0  177600  272707.227686   127260.889037   \n",
       "37                   52.0  236000  215737.829560    68302.614607   \n",
       "42                   74.4  300000  295494.986937   148340.059592   \n",
       "43                   74.5  250000  295851.045675   148658.290090   \n",
       "49                   60.8  300000  247070.998530   101837.281187   \n",
       "\n",
       "    predict_y_right  \n",
       "5     372804.470914  \n",
       "6     425656.645982  \n",
       "20    400009.353511  \n",
       "28    382744.579851  \n",
       "33    457040.498228  \n",
       "36    418153.566335  \n",
       "37    363173.044513  \n",
       "42    442649.914281  \n",
       "43    443043.801260  \n",
       "49    392304.715873  "
      ]
     },
     "execution_count": 26,
     "metadata": {},
     "output_type": "execute_result"
    }
   ],
   "source": [
    "ols_test_X_2D=sm.add_constant(test_X)\n",
    "pred_y=mba_reg_model.predict(ols_test_X_2D)\n",
    "#find the possible range of prediction\n",
    "all_wls=wls_prediction_std(mba_reg_model,ols_test_X_2D , alpha=0.1)\n",
    "#predict the low and high interval values for y\n",
    "_,pred_y_low,pred_y_high=wls_prediction_std(mba_reg_model, ols_test_X_2D, alpha=0.05)\n",
    "wls_prediction=pd.DataFrame({'predict_y_left':pred_y_low,\n",
    "                                        'predict_y_right':pred_y_high})\n",
    "prediction_list=print_prediction(test_y, pred_y, test_X)\n",
    "mba_student_first_prediction = prediction_list.assign(predict_y_left=pred_y_low,\n",
    "                                        predict_y_right=pred_y_high)\n",
    "mba_student_first_prediction.sort_index()"
   ]
  },
  {
   "cell_type": "code",
   "execution_count": 27,
   "id": "b20ff4db",
   "metadata": {},
   "outputs": [
    {
     "name": "stdout",
     "output_type": "stream",
     "text": [
      "mse=  5396084152.419214 , mae=  59155.310447690215  and r2_score=  -0.156645849742304\n"
     ]
    }
   ],
   "source": [
    "mse_ols,mae_ols,r2_ols=residual_check(test_y,pred_y)"
   ]
  },
  {
   "cell_type": "markdown",
   "id": "a49b01f7",
   "metadata": {},
   "source": [
    "As evident from the negative R-squared value for the testing data, the current model performs worse than simply predicting the mean for all test cases (i.e., R-squared = 0). In essence, this model does not provide any additional value beyond predicting the mean, rendering it essentially useless."
   ]
  },
  {
   "cell_type": "code",
   "execution_count": 28,
   "id": "c12ee80a",
   "metadata": {},
   "outputs": [
    {
     "data": {
      "image/png": "[encoded data removed]",
      "text/plain": [
       "<Figure size 600x400 with 1 Axes>"
      ]
     },
     "metadata": {},
     "output_type": "display_data"
    }
   ],
   "source": [
    "actual_vs_prediction_scatter_plot(test_y,pred_y)"
   ]
  },
  {
   "cell_type": "markdown",
   "id": "cffd7bbe",
   "metadata": {},
   "source": [
    "As OLS model did not perform very well lets try to do some feature engineering"
   ]
  },
  {
   "cell_type": "markdown",
   "id": "5469080b",
   "metadata": {},
   "source": [
    "<h1> Feature Engineering</h1>"
   ]
  },
  {
   "cell_type": "markdown",
   "id": "78cd24e7",
   "metadata": {},
   "source": [
    "<h2><span style=\"color: green;\">Type1:- Scaling</span></h2> Since we only have one feature, this approach may not be very useful. However, we can still try it to see if it provides any insights."
   ]
  },
  {
   "cell_type": "code",
   "execution_count": 29,
   "id": "9569ee78",
   "metadata": {},
   "outputs": [],
   "source": [
    "scaler=StandardScaler()\n",
    "X=train_X\n",
    "X_std = scaler.fit_transform(X.values.reshape(-1, 1))"
   ]
  },
  {
   "cell_type": "markdown",
   "id": "9ba617ff",
   "metadata": {},
   "source": [
    "run the previous model again and observe the performance."
   ]
  },
  {
   "cell_type": "code",
   "execution_count": 30,
   "id": "1dbc45fd",
   "metadata": {
    "scrolled": true
   },
   "outputs": [
    {
     "name": "stdout",
     "output_type": "stream",
     "text": [
      "const                     30587.285652\n",
      "Percentage in Grade 10     3560.587383\n",
      "dtype: float64\n"
     ]
    },
    {
     "data": {
      "text/html": [
       "<table class=\"simpletable\">\n",
       "<tr>\n",
       "        <td>Model:</td>               <td>OLS</td>         <td>Adj. R-squared:</td>      <td>0.190</td>  \n",
       "</tr>\n",
       "<tr>\n",
       "  <td>Dependent Variable:</td>      <td>Salary</td>             <td>AIC:</td>          <td>1008.8680</td>\n",
       "</tr>\n",
       "<tr>\n",
       "         <td>Date:</td>        <td>2024-01-08 08:07</td>        <td>BIC:</td>          <td>1012.2458</td>\n",
       "</tr>\n",
       "<tr>\n",
       "   <td>No. Observations:</td>         <td>40</td>          <td>Log-Likelihood:</td>     <td>-502.43</td> \n",
       "</tr>\n",
       "<tr>\n",
       "       <td>Df Model:</td>              <td>1</td>           <td>F-statistic:</td>        <td>10.16</td>  \n",
       "</tr>\n",
       "<tr>\n",
       "     <td>Df Residuals:</td>           <td>38</td>        <td>Prob (F-statistic):</td>   <td>0.00287</td> \n",
       "</tr>\n",
       "<tr>\n",
       "      <td>R-squared:</td>            <td>0.211</td>            <td>Scale:</td>        <td>5.0121e+09</td>\n",
       "</tr>\n",
       "</table>\n",
       "<table class=\"simpletable\">\n",
       "<tr>\n",
       "             <td></td>               <th>Coef.</th>    <th>Std.Err.</th>     <th>t</th>    <th>P>|t|</th>    <th>[0.025</th>      <th>0.975]</th>   \n",
       "</tr>\n",
       "<tr>\n",
       "  <th>const</th>                  <td>30587.2857</td> <td>71869.4497</td> <td>0.4256</td> <td>0.6728</td> <td>-114904.8089</td> <td>176079.3802</td>\n",
       "</tr>\n",
       "<tr>\n",
       "  <th>Percentage in Grade 10</th>  <td>3560.5874</td>  <td>1116.9258</td> <td>3.1878</td> <td>0.0029</td>   <td>1299.4892</td>   <td>5821.6855</td> \n",
       "</tr>\n",
       "</table>\n",
       "<table class=\"simpletable\">\n",
       "<tr>\n",
       "     <td>Omnibus:</td>    <td>2.048</td>  <td>Durbin-Watson:</td>   <td>2.611</td>\n",
       "</tr>\n",
       "<tr>\n",
       "  <td>Prob(Omnibus):</td> <td>0.359</td> <td>Jarque-Bera (JB):</td> <td>1.724</td>\n",
       "</tr>\n",
       "<tr>\n",
       "       <td>Skew:</td>     <td>0.369</td>     <td>Prob(JB):</td>     <td>0.422</td>\n",
       "</tr>\n",
       "<tr>\n",
       "     <td>Kurtosis:</td>   <td>2.300</td>  <td>Condition No.:</td>    <td>413</td> \n",
       "</tr>\n",
       "</table><br/>\n",
       "Notes:<br/>\n",
       "[1] Standard Errors assume that the covariance matrix of the errors is correctly specified."
      ],
      "text/latex": [
       "\\begin{table}\n",
       "\\caption{Results: Ordinary least squares}\n",
       "\\label{}\n",
       "\\begin{center}\n",
       "\\begin{tabular}{llll}\n",
       "\\hline\n",
       "Model:              & OLS              & Adj. R-squared:     & 0.190       \\\\\n",
       "Dependent Variable: & Salary           & AIC:                & 1008.8680   \\\\\n",
       "Date:               & 2024-01-08 08:07 & BIC:                & 1012.2458   \\\\\n",
       "No. Observations:   & 40               & Log-Likelihood:     & -502.43     \\\\\n",
       "Df Model:           & 1                & F-statistic:        & 10.16       \\\\\n",
       "Df Residuals:       & 38               & Prob (F-statistic): & 0.00287     \\\\\n",
       "R-squared:          & 0.211            & Scale:              & 5.0121e+09  \\\\\n",
       "\\hline\n",
       "\\end{tabular}\n",
       "\\end{center}\n",
       "\n",
       "\\begin{center}\n",
       "\\begin{tabular}{lrrrrrr}\n",
       "\\hline\n",
       "                       &      Coef. &   Std.Err. &      t & P$> |$t$|$ &       [0.025 &      0.975]  \\\\\n",
       "\\hline\n",
       "const                  & 30587.2857 & 71869.4497 & 0.4256 &      0.6728 & -114904.8089 & 176079.3802  \\\\\n",
       "Percentage in Grade 10 &  3560.5874 &  1116.9258 & 3.1878 &      0.0029 &    1299.4892 &   5821.6855  \\\\\n",
       "\\hline\n",
       "\\end{tabular}\n",
       "\\end{center}\n",
       "\n",
       "\\begin{center}\n",
       "\\begin{tabular}{llll}\n",
       "\\hline\n",
       "Omnibus:       & 2.048 & Durbin-Watson:    & 2.611  \\\\\n",
       "Prob(Omnibus): & 0.359 & Jarque-Bera (JB): & 1.724  \\\\\n",
       "Skew:          & 0.369 & Prob(JB):         & 0.422  \\\\\n",
       "Kurtosis:      & 2.300 & Condition No.:    & 413    \\\\\n",
       "\\hline\n",
       "\\end{tabular}\n",
       "\\end{center}\n",
       "\\end{table}\n",
       "\\bigskip\n",
       "Notes: \\newline \n",
       "[1] Standard Errors assume that the covariance matrix of the errors is correctly specified."
      ],
      "text/plain": [
       "<class 'statsmodels.iolib.summary2.Summary'>\n",
       "\"\"\"\n",
       "                          Results: Ordinary least squares\n",
       "===================================================================================\n",
       "Model:                    OLS                   Adj. R-squared:          0.190     \n",
       "Dependent Variable:       Salary                AIC:                     1008.8680 \n",
       "Date:                     2024-01-08 08:07      BIC:                     1012.2458 \n",
       "No. Observations:         40                    Log-Likelihood:          -502.43   \n",
       "Df Model:                 1                     F-statistic:             10.16     \n",
       "Df Residuals:             38                    Prob (F-statistic):      0.00287   \n",
       "R-squared:                0.211                 Scale:                   5.0121e+09\n",
       "-----------------------------------------------------------------------------------\n",
       "                         Coef.     Std.Err.    t    P>|t|     [0.025       0.975]  \n",
       "-----------------------------------------------------------------------------------\n",
       "const                  30587.2857 71869.4497 0.4256 0.6728 -114904.8089 176079.3802\n",
       "Percentage in Grade 10  3560.5874  1116.9258 3.1878 0.0029    1299.4892   5821.6855\n",
       "-----------------------------------------------------------------------------------\n",
       "Omnibus:                    2.048              Durbin-Watson:                 2.611\n",
       "Prob(Omnibus):              0.359              Jarque-Bera (JB):              1.724\n",
       "Skew:                       0.369              Prob(JB):                      0.422\n",
       "Kurtosis:                   2.300              Condition No.:                 413  \n",
       "===================================================================================\n",
       "Notes:\n",
       "[1] Standard Errors assume that the covariance matrix of the errors is correctly\n",
       "specified.\n",
       "\"\"\""
      ]
     },
     "execution_count": 30,
     "metadata": {},
     "output_type": "execute_result"
    }
   ],
   "source": [
    "X=sm.add_constant(train_X) #feature\n",
    "mba_reg_model_ols=sm.OLS(train_y,X)\n",
    "#Fit the regression model\n",
    "mba_reg_model=mba_reg_model_ols.fit()\n",
    "print(mba_reg_model.params)\n",
    "mba_reg_model.summary2()"
   ]
  },
  {
   "cell_type": "markdown",
   "id": "31e6bffd",
   "metadata": {},
   "source": [
    "Did not help. Exactly same as without scaling.\n",
    "<h2><span style=\"color: green;\">Type2:- Dropping Outliers</span></h2>"
   ]
  },
  {
   "cell_type": "markdown",
   "id": "c64b5d47",
   "metadata": {},
   "source": [
    "<h3> In box plot we can see outlier. As our previous model(stat OLS) did not work well with outlier data we will try to remove this data and see how well our model works </h3>"
   ]
  },
  {
   "cell_type": "markdown",
   "id": "931093f5",
   "metadata": {},
   "source": [
    "When the output is not clear then we can take measures like IQR to findout outliers. Lets try that"
   ]
  },
  {
   "cell_type": "code",
   "execution_count": 31,
   "id": "9d3d379b",
   "metadata": {},
   "outputs": [],
   "source": [
    "quaretile1_X=train_X.describe()[\"25%\"]\n",
    "quaretile3_X=train_X.describe()[\"75%\"]\n",
    "iqr=quaretile3_X-quaretile1_X\n",
    "lower_outlier=quaretile1_X-1.5*iqr#data outside of lower end\n",
    "outlier=mba_salary_df[mba_salary_df['Percentage in Grade 10']<lower_outlier]['Percentage in Grade 10']"
   ]
  },
  {
   "cell_type": "code",
   "execution_count": 32,
   "id": "619dec60",
   "metadata": {},
   "outputs": [],
   "source": [
    "#before dropping lets store both the variable for future processing\n",
    "dropped_train_X=train_X.loc[outlier.index]\n",
    "dropped_train_y=train_y.loc[outlier.index]"
   ]
  },
  {
   "cell_type": "markdown",
   "id": "d0431aa5",
   "metadata": {},
   "source": [
    "But for testing lets try to drop this outlier and check how the new model works, check the r square value"
   ]
  },
  {
   "cell_type": "code",
   "execution_count": 33,
   "id": "4669996d",
   "metadata": {},
   "outputs": [],
   "source": [
    "train_X.drop(outlier.index,inplace=True, errors='ignore')\n",
    "train_y.drop(outlier.index,inplace=True, errors='ignore')"
   ]
  },
  {
   "cell_type": "markdown",
   "id": "4a768761",
   "metadata": {},
   "source": [
    "Try the model again"
   ]
  },
  {
   "cell_type": "code",
   "execution_count": 34,
   "id": "6fc0ca2a",
   "metadata": {},
   "outputs": [
    {
     "name": "stdout",
     "output_type": "stream",
     "text": [
      "const                    -11287.343313\n",
      "Percentage in Grade 10     4181.968069\n",
      "dtype: float64\n"
     ]
    },
    {
     "data": {
      "text/html": [
       "<table class=\"simpletable\">\n",
       "<tr>\n",
       "        <td>Model:</td>               <td>OLS</td>         <td>Adj. R-squared:</td>      <td>0.220</td>  \n",
       "</tr>\n",
       "<tr>\n",
       "  <td>Dependent Variable:</td>      <td>Salary</td>             <td>AIC:</td>          <td>983.2137</td> \n",
       "</tr>\n",
       "<tr>\n",
       "         <td>Date:</td>        <td>2024-01-08 08:07</td>        <td>BIC:</td>          <td>986.5408</td> \n",
       "</tr>\n",
       "<tr>\n",
       "   <td>No. Observations:</td>         <td>39</td>          <td>Log-Likelihood:</td>     <td>-489.61</td> \n",
       "</tr>\n",
       "<tr>\n",
       "       <td>Df Model:</td>              <td>1</td>           <td>F-statistic:</td>        <td>11.70</td>  \n",
       "</tr>\n",
       "<tr>\n",
       "     <td>Df Residuals:</td>           <td>37</td>        <td>Prob (F-statistic):</td>   <td>0.00154</td> \n",
       "</tr>\n",
       "<tr>\n",
       "      <td>R-squared:</td>            <td>0.240</td>            <td>Scale:</td>        <td>4.9508e+09</td>\n",
       "</tr>\n",
       "</table>\n",
       "<table class=\"simpletable\">\n",
       "<tr>\n",
       "             <td></td>               <th>Coef.</th>     <th>Std.Err.</th>     <th>t</th>     <th>P>|t|</th>    <th>[0.025</th>      <th>0.975]</th>   \n",
       "</tr>\n",
       "<tr>\n",
       "  <th>const</th>                  <td>-11287.3433</td> <td>79337.3795</td> <td>-0.1423</td> <td>0.8876</td> <td>-172040.1437</td> <td>149465.4571</td>\n",
       "</tr>\n",
       "<tr>\n",
       "  <th>Percentage in Grade 10</th>  <td>4181.9681</td>   <td>1222.6300</td> <td>3.4205</td>  <td>0.0015</td>   <td>1704.6844</td>   <td>6659.2517</td> \n",
       "</tr>\n",
       "</table>\n",
       "<table class=\"simpletable\">\n",
       "<tr>\n",
       "     <td>Omnibus:</td>    <td>1.799</td>  <td>Durbin-Watson:</td>   <td>2.604</td>\n",
       "</tr>\n",
       "<tr>\n",
       "  <td>Prob(Omnibus):</td> <td>0.407</td> <td>Jarque-Bera (JB):</td> <td>1.591</td>\n",
       "</tr>\n",
       "<tr>\n",
       "       <td>Skew:</td>     <td>0.368</td>     <td>Prob(JB):</td>     <td>0.451</td>\n",
       "</tr>\n",
       "<tr>\n",
       "     <td>Kurtosis:</td>   <td>2.338</td>  <td>Condition No.:</td>    <td>457</td> \n",
       "</tr>\n",
       "</table><br/>\n",
       "Notes:<br/>\n",
       "[1] Standard Errors assume that the covariance matrix of the errors is correctly specified."
      ],
      "text/latex": [
       "\\begin{table}\n",
       "\\caption{Results: Ordinary least squares}\n",
       "\\label{}\n",
       "\\begin{center}\n",
       "\\begin{tabular}{llll}\n",
       "\\hline\n",
       "Model:              & OLS              & Adj. R-squared:     & 0.220       \\\\\n",
       "Dependent Variable: & Salary           & AIC:                & 983.2137    \\\\\n",
       "Date:               & 2024-01-08 08:07 & BIC:                & 986.5408    \\\\\n",
       "No. Observations:   & 39               & Log-Likelihood:     & -489.61     \\\\\n",
       "Df Model:           & 1                & F-statistic:        & 11.70       \\\\\n",
       "Df Residuals:       & 37               & Prob (F-statistic): & 0.00154     \\\\\n",
       "R-squared:          & 0.240            & Scale:              & 4.9508e+09  \\\\\n",
       "\\hline\n",
       "\\end{tabular}\n",
       "\\end{center}\n",
       "\n",
       "\\begin{center}\n",
       "\\begin{tabular}{lrrrrrr}\n",
       "\\hline\n",
       "                       &       Coef. &   Std.Err. &       t & P$> |$t$|$ &       [0.025 &      0.975]  \\\\\n",
       "\\hline\n",
       "const                  & -11287.3433 & 79337.3795 & -0.1423 &      0.8876 & -172040.1437 & 149465.4571  \\\\\n",
       "Percentage in Grade 10 &   4181.9681 &  1222.6300 &  3.4205 &      0.0015 &    1704.6844 &   6659.2517  \\\\\n",
       "\\hline\n",
       "\\end{tabular}\n",
       "\\end{center}\n",
       "\n",
       "\\begin{center}\n",
       "\\begin{tabular}{llll}\n",
       "\\hline\n",
       "Omnibus:       & 1.799 & Durbin-Watson:    & 2.604  \\\\\n",
       "Prob(Omnibus): & 0.407 & Jarque-Bera (JB): & 1.591  \\\\\n",
       "Skew:          & 0.368 & Prob(JB):         & 0.451  \\\\\n",
       "Kurtosis:      & 2.338 & Condition No.:    & 457    \\\\\n",
       "\\hline\n",
       "\\end{tabular}\n",
       "\\end{center}\n",
       "\\end{table}\n",
       "\\bigskip\n",
       "Notes: \\newline \n",
       "[1] Standard Errors assume that the covariance matrix of the errors is correctly specified."
      ],
      "text/plain": [
       "<class 'statsmodels.iolib.summary2.Summary'>\n",
       "\"\"\"\n",
       "                           Results: Ordinary least squares\n",
       "=====================================================================================\n",
       "Model:                    OLS                    Adj. R-squared:           0.220     \n",
       "Dependent Variable:       Salary                 AIC:                      983.2137  \n",
       "Date:                     2024-01-08 08:07       BIC:                      986.5408  \n",
       "No. Observations:         39                     Log-Likelihood:           -489.61   \n",
       "Df Model:                 1                      F-statistic:              11.70     \n",
       "Df Residuals:             37                     Prob (F-statistic):       0.00154   \n",
       "R-squared:                0.240                  Scale:                    4.9508e+09\n",
       "-------------------------------------------------------------------------------------\n",
       "                          Coef.     Std.Err.     t    P>|t|     [0.025       0.975]  \n",
       "-------------------------------------------------------------------------------------\n",
       "const                  -11287.3433 79337.3795 -0.1423 0.8876 -172040.1437 149465.4571\n",
       "Percentage in Grade 10   4181.9681  1222.6300  3.4205 0.0015    1704.6844   6659.2517\n",
       "-------------------------------------------------------------------------------------\n",
       "Omnibus:                      1.799              Durbin-Watson:                 2.604\n",
       "Prob(Omnibus):                0.407              Jarque-Bera (JB):              1.591\n",
       "Skew:                         0.368              Prob(JB):                      0.451\n",
       "Kurtosis:                     2.338              Condition No.:                 457  \n",
       "=====================================================================================\n",
       "Notes:\n",
       "[1] Standard Errors assume that the covariance matrix of the errors is correctly\n",
       "specified.\n",
       "\"\"\""
      ]
     },
     "execution_count": 34,
     "metadata": {},
     "output_type": "execute_result"
    }
   ],
   "source": [
    "X=sm.add_constant(train_X) #feature\n",
    "mba_reg_model_ols=sm.OLS(train_y,X)\n",
    "#Fit the regression model\n",
    "mba_reg_model=mba_reg_model_ols.fit()\n",
    "print(mba_reg_model.params)\n",
    "mba_reg_model.summary2()"
   ]
  },
  {
   "cell_type": "markdown",
   "id": "376cc336",
   "metadata": {},
   "source": [
    "Dropping outlier helped but not too much. Also that data was correct so I will add that data (deleted variables) again and use another type of feature engineering, i.e. polynomial feature.\n",
    "<h2><span style=\"color: green;\">Type3:- Polynomial Relationship</span></h2><h3>degree=2..10</h3>"
   ]
  },
  {
   "cell_type": "markdown",
   "id": "3f44c345",
   "metadata": {},
   "source": [
    "Concatenate dropped values"
   ]
  },
  {
   "cell_type": "code",
   "execution_count": 35,
   "id": "4380c886",
   "metadata": {},
   "outputs": [],
   "source": [
    "train_X=pd.concat([train_X,dropped_train_X])\n",
    "train_y=pd.concat([train_y,dropped_train_y])"
   ]
  },
  {
   "cell_type": "code",
   "execution_count": 36,
   "id": "d04b01d9",
   "metadata": {},
   "outputs": [],
   "source": [
    "poly_train_X=PolynomialFeatures(degree=4).fit_transform(train_X_2D) #tried with multiple degree degree=4 giving best bias variance tradeoff"
   ]
  },
  {
   "cell_type": "code",
   "execution_count": 37,
   "id": "0e5d2a3b",
   "metadata": {},
   "outputs": [
    {
     "name": "stdout",
     "output_type": "stream",
     "text": [
      "const   -8.586295e+06\n",
      "x1       5.848422e+05\n",
      "x2      -1.418316e+04\n",
      "x3       1.492762e+02\n",
      "x4      -5.747408e-01\n",
      "dtype: float64\n"
     ]
    },
    {
     "data": {
      "text/html": [
       "<table class=\"simpletable\">\n",
       "<tr>\n",
       "        <td>Model:</td>               <td>OLS</td>         <td>Adj. R-squared:</td>      <td>0.059</td>  \n",
       "</tr>\n",
       "<tr>\n",
       "  <td>Dependent Variable:</td>      <td>Salary</td>             <td>AIC:</td>          <td>1017.5702</td>\n",
       "</tr>\n",
       "<tr>\n",
       "         <td>Date:</td>        <td>2024-01-08 08:07</td>        <td>BIC:</td>          <td>1026.0146</td>\n",
       "</tr>\n",
       "<tr>\n",
       "   <td>No. Observations:</td>         <td>40</td>          <td>Log-Likelihood:</td>     <td>-503.79</td> \n",
       "</tr>\n",
       "<tr>\n",
       "       <td>Df Model:</td>              <td>4</td>           <td>F-statistic:</td>        <td>1.616</td>  \n",
       "</tr>\n",
       "<tr>\n",
       "     <td>Df Residuals:</td>           <td>35</td>        <td>Prob (F-statistic):</td>    <td>0.192</td>  \n",
       "</tr>\n",
       "<tr>\n",
       "      <td>R-squared:</td>            <td>0.156</td>            <td>Scale:</td>        <td>5.8220e+09</td>\n",
       "</tr>\n",
       "</table>\n",
       "<table class=\"simpletable\">\n",
       "<tr>\n",
       "    <td></td>        <th>Coef.</th>       <th>Std.Err.</th>      <th>t</th>     <th>P>|t|</th>     <th>[0.025</th>        <th>0.975]</th>   \n",
       "</tr>\n",
       "<tr>\n",
       "  <th>const</th> <td>-8586294.6972</td> <td>7014883.3772</td> <td>-1.2240</td> <td>0.2291</td> <td>-22827265.0570</td> <td>5654675.6627</td>\n",
       "</tr>\n",
       "<tr>\n",
       "  <th>x1</th>     <td>584842.1718</td>   <td>493898.1389</td> <td>1.1841</td>  <td>0.2443</td>  <td>-417824.3557</td>  <td>1587508.6994</td>\n",
       "</tr>\n",
       "<tr>\n",
       "  <th>x2</th>     <td>-14183.1596</td>   <td>12728.2722</td>  <td>-1.1143</td> <td>0.2727</td>   <td>-40022.9259</td>   <td>11656.6066</td> \n",
       "</tr>\n",
       "<tr>\n",
       "  <th>x3</th>      <td>149.2762</td>      <td>142.5802</td>   <td>1.0470</td>  <td>0.3023</td>    <td>-140.1769</td>     <td>438.7294</td>  \n",
       "</tr>\n",
       "<tr>\n",
       "  <th>x4</th>       <td>-0.5747</td>       <td>0.5869</td>    <td>-0.9794</td> <td>0.3341</td>     <td>-1.7661</td>       <td>0.6166</td>   \n",
       "</tr>\n",
       "</table>\n",
       "<table class=\"simpletable\">\n",
       "<tr>\n",
       "     <td>Omnibus:</td>    <td>3.895</td>  <td>Durbin-Watson:</td>      <td>2.747</td>   \n",
       "</tr>\n",
       "<tr>\n",
       "  <td>Prob(Omnibus):</td> <td>0.143</td> <td>Jarque-Bera (JB):</td>    <td>3.266</td>   \n",
       "</tr>\n",
       "<tr>\n",
       "       <td>Skew:</td>     <td>0.700</td>     <td>Prob(JB):</td>        <td>0.195</td>   \n",
       "</tr>\n",
       "<tr>\n",
       "     <td>Kurtosis:</td>   <td>2.983</td>  <td>Condition No.:</td>   <td>12666158441</td>\n",
       "</tr>\n",
       "</table><br/>\n",
       "Notes:<br/>\n",
       "[1] Standard Errors assume that the covariance matrix of the errors is correctly specified.<br/>\n",
       "[2] The condition number is large, 1.27e+10. This might indicate                that there are strong multicollinearity or other numerical                problems."
      ],
      "text/latex": [
       "\\begin{table}\n",
       "\\caption{Results: Ordinary least squares}\n",
       "\\label{}\n",
       "\\begin{center}\n",
       "\\begin{tabular}{llll}\n",
       "\\hline\n",
       "Model:              & OLS              & Adj. R-squared:     & 0.059       \\\\\n",
       "Dependent Variable: & Salary           & AIC:                & 1017.5702   \\\\\n",
       "Date:               & 2024-01-08 08:07 & BIC:                & 1026.0146   \\\\\n",
       "No. Observations:   & 40               & Log-Likelihood:     & -503.79     \\\\\n",
       "Df Model:           & 4                & F-statistic:        & 1.616       \\\\\n",
       "Df Residuals:       & 35               & Prob (F-statistic): & 0.192       \\\\\n",
       "R-squared:          & 0.156            & Scale:              & 5.8220e+09  \\\\\n",
       "\\hline\n",
       "\\end{tabular}\n",
       "\\end{center}\n",
       "\n",
       "\\begin{center}\n",
       "\\begin{tabular}{lrrrrrr}\n",
       "\\hline\n",
       "      &         Coef. &     Std.Err. &       t & P$> |$t$|$ &         [0.025 &       0.975]  \\\\\n",
       "\\hline\n",
       "const & -8586294.6972 & 7014883.3772 & -1.2240 &      0.2291 & -22827265.0570 & 5654675.6627  \\\\\n",
       "x1    &   584842.1718 &  493898.1389 &  1.1841 &      0.2443 &   -417824.3557 & 1587508.6994  \\\\\n",
       "x2    &   -14183.1596 &   12728.2722 & -1.1143 &      0.2727 &    -40022.9259 &   11656.6066  \\\\\n",
       "x3    &      149.2762 &     142.5802 &  1.0470 &      0.3023 &      -140.1769 &     438.7294  \\\\\n",
       "x4    &       -0.5747 &       0.5869 & -0.9794 &      0.3341 &        -1.7661 &       0.6166  \\\\\n",
       "\\hline\n",
       "\\end{tabular}\n",
       "\\end{center}\n",
       "\n",
       "\\begin{center}\n",
       "\\begin{tabular}{llll}\n",
       "\\hline\n",
       "Omnibus:       & 3.895 & Durbin-Watson:    & 2.747        \\\\\n",
       "Prob(Omnibus): & 0.143 & Jarque-Bera (JB): & 3.266        \\\\\n",
       "Skew:          & 0.700 & Prob(JB):         & 0.195        \\\\\n",
       "Kurtosis:      & 2.983 & Condition No.:    & 12666158441  \\\\\n",
       "\\hline\n",
       "\\end{tabular}\n",
       "\\end{center}\n",
       "\\end{table}\n",
       "\\bigskip\n",
       "Notes: \\newline \n",
       "[1] Standard Errors assume that the covariance matrix of the errors is correctly specified. \\newline \n",
       "[2] The condition number is large, 1.27e+10. This might indicate                that there are strong multicollinearity or other numerical                problems."
      ],
      "text/plain": [
       "<class 'statsmodels.iolib.summary2.Summary'>\n",
       "\"\"\"\n",
       "                      Results: Ordinary least squares\n",
       "===========================================================================\n",
       "Model:                  OLS                Adj. R-squared:       0.059     \n",
       "Dependent Variable:     Salary             AIC:                  1017.5702 \n",
       "Date:                   2024-01-08 08:07   BIC:                  1026.0146 \n",
       "No. Observations:       40                 Log-Likelihood:       -503.79   \n",
       "Df Model:               4                  F-statistic:          1.616     \n",
       "Df Residuals:           35                 Prob (F-statistic):   0.192     \n",
       "R-squared:              0.156              Scale:                5.8220e+09\n",
       "---------------------------------------------------------------------------\n",
       "          Coef.       Std.Err.      t    P>|t|      [0.025        0.975]   \n",
       "---------------------------------------------------------------------------\n",
       "const -8586294.6972 7014883.3772 -1.2240 0.2291 -22827265.0570 5654675.6627\n",
       "x1      584842.1718  493898.1389  1.1841 0.2443   -417824.3557 1587508.6994\n",
       "x2      -14183.1596   12728.2722 -1.1143 0.2727    -40022.9259   11656.6066\n",
       "x3         149.2762     142.5802  1.0470 0.3023      -140.1769     438.7294\n",
       "x4          -0.5747       0.5869 -0.9794 0.3341        -1.7661       0.6166\n",
       "---------------------------------------------------------------------------\n",
       "Omnibus:                3.895         Durbin-Watson:            2.747      \n",
       "Prob(Omnibus):          0.143         Jarque-Bera (JB):         3.266      \n",
       "Skew:                   0.700         Prob(JB):                 0.195      \n",
       "Kurtosis:               2.983         Condition No.:            12666158441\n",
       "===========================================================================\n",
       "Notes:\n",
       "[1] Standard Errors assume that the covariance matrix of the errors is\n",
       "correctly specified.\n",
       "[2] The condition number is large, 1.27e+10. This might indicate\n",
       "that there are strong multicollinearity or other numerical\n",
       "problems.\n",
       "\"\"\""
      ]
     },
     "execution_count": 37,
     "metadata": {},
     "output_type": "execute_result"
    }
   ],
   "source": [
    "X=sm.add_constant(poly_train_X) #feature\n",
    "mba_reg_model_ols=sm.OLS(train_y,X)\n",
    "#Fit the regression model\n",
    "mba_reg_model=mba_reg_model_ols.fit()\n",
    "print(mba_reg_model.params)\n",
    "mba_reg_model.summary2()"
   ]
  },
  {
   "cell_type": "code",
   "execution_count": 38,
   "id": "50e0e600",
   "metadata": {},
   "outputs": [
    {
     "data": {
      "text/html": [
       "<div>\n",
       "<style scoped>\n",
       "    .dataframe tbody tr th:only-of-type {\n",
       "        vertical-align: middle;\n",
       "    }\n",
       "\n",
       "    .dataframe tbody tr th {\n",
       "        vertical-align: top;\n",
       "    }\n",
       "\n",
       "    .dataframe thead th {\n",
       "        text-align: right;\n",
       "    }\n",
       "</style>\n",
       "<table border=\"1\" class=\"dataframe\">\n",
       "  <thead>\n",
       "    <tr style=\"text-align: right;\">\n",
       "      <th></th>\n",
       "      <th>10th Grade Percentage</th>\n",
       "      <th>Actual</th>\n",
       "      <th>Predicted</th>\n",
       "    </tr>\n",
       "  </thead>\n",
       "  <tbody>\n",
       "    <tr>\n",
       "      <th>6</th>\n",
       "      <td>70.0</td>\n",
       "      <td>260000</td>\n",
       "      <td>257396.728236</td>\n",
       "    </tr>\n",
       "    <tr>\n",
       "      <th>36</th>\n",
       "      <td>68.0</td>\n",
       "      <td>177600</td>\n",
       "      <td>248518.456740</td>\n",
       "    </tr>\n",
       "    <tr>\n",
       "      <th>37</th>\n",
       "      <td>52.0</td>\n",
       "      <td>236000</td>\n",
       "      <td>261383.251141</td>\n",
       "    </tr>\n",
       "    <tr>\n",
       "      <th>28</th>\n",
       "      <td>58.0</td>\n",
       "      <td>360000</td>\n",
       "      <td>243934.839229</td>\n",
       "    </tr>\n",
       "    <tr>\n",
       "      <th>43</th>\n",
       "      <td>74.5</td>\n",
       "      <td>250000</td>\n",
       "      <td>284087.970349</td>\n",
       "    </tr>\n",
       "    <tr>\n",
       "      <th>49</th>\n",
       "      <td>60.8</td>\n",
       "      <td>300000</td>\n",
       "      <td>238842.663303</td>\n",
       "    </tr>\n",
       "    <tr>\n",
       "      <th>5</th>\n",
       "      <td>55.0</td>\n",
       "      <td>300000</td>\n",
       "      <td>252562.738426</td>\n",
       "    </tr>\n",
       "    <tr>\n",
       "      <th>33</th>\n",
       "      <td>78.0</td>\n",
       "      <td>330000</td>\n",
       "      <td>306323.913716</td>\n",
       "    </tr>\n",
       "    <tr>\n",
       "      <th>20</th>\n",
       "      <td>63.0</td>\n",
       "      <td>120000</td>\n",
       "      <td>238006.582863</td>\n",
       "    </tr>\n",
       "    <tr>\n",
       "      <th>42</th>\n",
       "      <td>74.4</td>\n",
       "      <td>300000</td>\n",
       "      <td>283437.794893</td>\n",
       "    </tr>\n",
       "  </tbody>\n",
       "</table>\n",
       "</div>"
      ],
      "text/plain": [
       "    10th Grade Percentage  Actual      Predicted\n",
       "6                    70.0  260000  257396.728236\n",
       "36                   68.0  177600  248518.456740\n",
       "37                   52.0  236000  261383.251141\n",
       "28                   58.0  360000  243934.839229\n",
       "43                   74.5  250000  284087.970349\n",
       "49                   60.8  300000  238842.663303\n",
       "5                    55.0  300000  252562.738426\n",
       "33                   78.0  330000  306323.913716\n",
       "20                   63.0  120000  238006.582863\n",
       "42                   74.4  300000  283437.794893"
      ]
     },
     "execution_count": 38,
     "metadata": {},
     "output_type": "execute_result"
    }
   ],
   "source": [
    "poly_test_X=PolynomialFeatures(degree=4).fit_transform(test_X_2D)\n",
    "ols_test_X_2D=sm.add_constant(poly_test_X)\n",
    "pred_y=mba_reg_model.predict(ols_test_X_2D)\n",
    "print_prediction(test_y, pred_y, test_X)"
   ]
  },
  {
   "cell_type": "code",
   "execution_count": 39,
   "id": "26a3a1cd",
   "metadata": {},
   "outputs": [
    {
     "name": "stdout",
     "output_type": "stream",
     "text": [
      "mse=  4106455615.2503386 , mae=  51589.758329155295  and r2_score=  0.11978488282084054\n",
      "MSE wise, poly is better model than ols model, MSE for ols is= 5396084152.419214\n",
      "MAE wise, poly is better model than ols model, MAE for ols is= 59155.310447690215\n",
      "R2 wise, poly is better model than ols model, R2 for ols is= -0.156645849742304\n"
     ]
    }
   ],
   "source": [
    "mse_poly,mae_poly,r2_poly=residual_check(test_y,pred_y)\n",
    "compare_evaluation_metric('ols','poly')"
   ]
  },
  {
   "cell_type": "code",
   "execution_count": 40,
   "id": "db5818a6",
   "metadata": {},
   "outputs": [
    {
     "data": {
      "image/png": "[encoded data removed]",
      "text/plain": [
       "<Figure size 600x400 with 1 Axes>"
      ]
     },
     "metadata": {},
     "output_type": "display_data"
    }
   ],
   "source": [
    "actual_vs_prediction_scatter_plot(test_y,pred_y)"
   ]
  },
  {
   "cell_type": "markdown",
   "id": "7f758fc3",
   "metadata": {},
   "source": [
    "We can see for polynomial feature (degree=4) the performance has increased but still it is not very good as we know only 10th standard grade is not enough to predict someone's salary later. But in few session we will try to findout if advanced regression model can predict it better or not"
   ]
  },
  {
   "cell_type": "markdown",
   "id": "3e313b92",
   "metadata": {},
   "source": [
    "<h2><span style=\"color: red;\"> Model 2:- </span>Linear Regression Testing</h2> Same as model1. OLS model but only using different library. First one is mainly for Statistics check and this one is for prediction."
   ]
  },
  {
   "cell_type": "code",
   "execution_count": 41,
   "id": "e677ebc7",
   "metadata": {},
   "outputs": [],
   "source": [
    "mba_sk_linear_reg=LinearRegression().fit(train_X_2D,train_y_2D)\n",
    "pred_y = mba_sk_linear_reg.predict(test_X_2D)\n",
    "results=print_prediction(test_y,pred_y.flatten(),test_X)"
   ]
  },
  {
   "cell_type": "code",
   "execution_count": 42,
   "id": "0c8c505f",
   "metadata": {},
   "outputs": [
    {
     "name": "stdout",
     "output_type": "stream",
     "text": [
      "mse=  5396084152.419214 , mae=  59155.31044769024  and r2_score=  -0.156645849742304\n",
      "MSE wise poly is better, it's MSE value is= 4106455615.2503386\n",
      "MAE wise poly is better, it's MAE value is= 51589.758329155295\n",
      "R2 wise poly is better, it's R2 value is= 0.11978488282084054\n"
     ]
    }
   ],
   "source": [
    "mse_lin,mae_lin,r2_lin=residual_check(test_y,pred_y)\n",
    "compare_evaluation_metric('poly','lin')"
   ]
  },
  {
   "cell_type": "code",
   "execution_count": 43,
   "id": "d8d17837",
   "metadata": {},
   "outputs": [
    {
     "data": {
      "text/plain": [
       "array([[False]])"
      ]
     },
     "execution_count": 43,
     "metadata": {},
     "output_type": "execute_result"
    }
   ],
   "source": [
    "np.isnan(mba_sk_linear_reg.coef_)"
   ]
  },
  {
   "cell_type": "markdown",
   "id": "c17d0a7c",
   "metadata": {},
   "source": [
    "A scatter plot visualizes the relationship between the actual and predicted values for each data point. It helps assess how well the model predictions align with the actual outcomes.In an ideal scenario, the points on the scatter plot would form a clear, linear pattern along a diagonal line (45-degree angle) indicate the model’s predictions are close to the actual values."
   ]
  },
  {
   "cell_type": "code",
   "execution_count": 44,
   "id": "72473958",
   "metadata": {},
   "outputs": [
    {
     "data": {
      "image/png": "[encoded data removed]",
      "text/plain": [
       "<Figure size 600x400 with 1 Axes>"
      ]
     },
     "metadata": {},
     "output_type": "display_data"
    }
   ],
   "source": [
    "actual_vs_prediction_scatter_plot(test_y,pred_y)"
   ]
  },
  {
   "cell_type": "markdown",
   "id": "fef580e7",
   "metadata": {},
   "source": [
    "As we can see from the plot our model's performance is not satisfactory."
   ]
  },
  {
   "cell_type": "markdown",
   "id": "a216358c",
   "metadata": {},
   "source": [
    "<h2><span style=\"color: red;\"> Model 3:- </span>LASSO REGRESSION TESTING </h2> L1 Regularization"
   ]
  },
  {
   "cell_type": "code",
   "execution_count": 45,
   "id": "3b2ebe32",
   "metadata": {},
   "outputs": [
    {
     "data": {
      "text/html": [
       "<div>\n",
       "<style scoped>\n",
       "    .dataframe tbody tr th:only-of-type {\n",
       "        vertical-align: middle;\n",
       "    }\n",
       "\n",
       "    .dataframe tbody tr th {\n",
       "        vertical-align: top;\n",
       "    }\n",
       "\n",
       "    .dataframe thead th {\n",
       "        text-align: right;\n",
       "    }\n",
       "</style>\n",
       "<table border=\"1\" class=\"dataframe\">\n",
       "  <thead>\n",
       "    <tr style=\"text-align: right;\">\n",
       "      <th></th>\n",
       "      <th>10th Grade Percentage</th>\n",
       "      <th>Actual</th>\n",
       "      <th>Predicted</th>\n",
       "    </tr>\n",
       "  </thead>\n",
       "  <tbody>\n",
       "    <tr>\n",
       "      <th>6</th>\n",
       "      <td>70.0</td>\n",
       "      <td>260000</td>\n",
       "      <td>279828.396041</td>\n",
       "    </tr>\n",
       "    <tr>\n",
       "      <th>36</th>\n",
       "      <td>68.0</td>\n",
       "      <td>177600</td>\n",
       "      <td>272707.223266</td>\n",
       "    </tr>\n",
       "    <tr>\n",
       "      <th>37</th>\n",
       "      <td>52.0</td>\n",
       "      <td>236000</td>\n",
       "      <td>215737.841070</td>\n",
       "    </tr>\n",
       "    <tr>\n",
       "      <th>28</th>\n",
       "      <td>58.0</td>\n",
       "      <td>360000</td>\n",
       "      <td>237101.359394</td>\n",
       "    </tr>\n",
       "    <tr>\n",
       "      <th>43</th>\n",
       "      <td>74.5</td>\n",
       "      <td>250000</td>\n",
       "      <td>295851.034783</td>\n",
       "    </tr>\n",
       "    <tr>\n",
       "      <th>49</th>\n",
       "      <td>60.8</td>\n",
       "      <td>300000</td>\n",
       "      <td>247071.001278</td>\n",
       "    </tr>\n",
       "    <tr>\n",
       "      <th>5</th>\n",
       "      <td>55.0</td>\n",
       "      <td>300000</td>\n",
       "      <td>226419.600232</td>\n",
       "    </tr>\n",
       "    <tr>\n",
       "      <th>33</th>\n",
       "      <td>78.0</td>\n",
       "      <td>330000</td>\n",
       "      <td>308313.087139</td>\n",
       "    </tr>\n",
       "    <tr>\n",
       "      <th>20</th>\n",
       "      <td>63.0</td>\n",
       "      <td>120000</td>\n",
       "      <td>254904.291330</td>\n",
       "    </tr>\n",
       "    <tr>\n",
       "      <th>42</th>\n",
       "      <td>74.4</td>\n",
       "      <td>300000</td>\n",
       "      <td>295494.976145</td>\n",
       "    </tr>\n",
       "  </tbody>\n",
       "</table>\n",
       "</div>"
      ],
      "text/plain": [
       "    10th Grade Percentage  Actual      Predicted\n",
       "6                    70.0  260000  279828.396041\n",
       "36                   68.0  177600  272707.223266\n",
       "37                   52.0  236000  215737.841070\n",
       "28                   58.0  360000  237101.359394\n",
       "43                   74.5  250000  295851.034783\n",
       "49                   60.8  300000  247071.001278\n",
       "5                    55.0  300000  226419.600232\n",
       "33                   78.0  330000  308313.087139\n",
       "20                   63.0  120000  254904.291330\n",
       "42                   74.4  300000  295494.976145"
      ]
     },
     "execution_count": 45,
     "metadata": {},
     "output_type": "execute_result"
    }
   ],
   "source": [
    "mba_lasso_reg=Lasso(alpha=0.1).fit(train_X_2D,train_y_2D)\n",
    "pred_y = mba_lasso_reg.predict(test_X_2D)\n",
    "results = print_prediction(test_y,pred_y.flatten(),test_X)\n",
    "results"
   ]
  },
  {
   "cell_type": "code",
   "execution_count": 46,
   "id": "2118bca7",
   "metadata": {},
   "outputs": [
    {
     "name": "stdout",
     "output_type": "stream",
     "text": [
      "mse=  5396083692.939485 , mae=  59155.30801630303  and r2_score=  -0.15664575125323155\n",
      "MSE wise poly is better, it's MSE value is= 4106455615.2503386\n",
      "MAE wise poly is better, it's MAE value is= 51589.758329155295\n",
      "R2 wise poly is better, it's R2 value is= 0.11978488282084054\n"
     ]
    }
   ],
   "source": [
    "mse_lasso,mae_lasso,r2_lasso=residual_check(test_y,pred_y)\n",
    "compare_evaluation_metric('poly','lasso')"
   ]
  },
  {
   "cell_type": "code",
   "execution_count": 47,
   "id": "113044de",
   "metadata": {},
   "outputs": [
    {
     "data": {
      "image/png": "[encoded data removed]",
      "text/plain": [
       "<Figure size 600x400 with 1 Axes>"
      ]
     },
     "metadata": {},
     "output_type": "display_data"
    }
   ],
   "source": [
    "actual_vs_prediction_scatter_plot(test_y,pred_y)"
   ]
  },
  {
   "cell_type": "markdown",
   "id": "6d8eef19",
   "metadata": {},
   "source": [
    "<h2><span style=\"color: red;\"> Model 4:- </span>RIDGE REGRESSION </h2>L2 Regularization"
   ]
  },
  {
   "cell_type": "code",
   "execution_count": 48,
   "id": "d396f066",
   "metadata": {},
   "outputs": [
    {
     "data": {
      "text/html": [
       "<div>\n",
       "<style scoped>\n",
       "    .dataframe tbody tr th:only-of-type {\n",
       "        vertical-align: middle;\n",
       "    }\n",
       "\n",
       "    .dataframe tbody tr th {\n",
       "        vertical-align: top;\n",
       "    }\n",
       "\n",
       "    .dataframe thead th {\n",
       "        text-align: right;\n",
       "    }\n",
       "</style>\n",
       "<table border=\"1\" class=\"dataframe\">\n",
       "  <thead>\n",
       "    <tr style=\"text-align: right;\">\n",
       "      <th></th>\n",
       "      <th>10th Grade Percentage</th>\n",
       "      <th>Actual</th>\n",
       "      <th>Predicted</th>\n",
       "    </tr>\n",
       "  </thead>\n",
       "  <tbody>\n",
       "    <tr>\n",
       "      <th>6</th>\n",
       "      <td>70.0</td>\n",
       "      <td>260000</td>\n",
       "      <td>279827.831771</td>\n",
       "    </tr>\n",
       "    <tr>\n",
       "      <th>36</th>\n",
       "      <td>68.0</td>\n",
       "      <td>177600</td>\n",
       "      <td>272706.834249</td>\n",
       "    </tr>\n",
       "    <tr>\n",
       "      <th>37</th>\n",
       "      <td>52.0</td>\n",
       "      <td>236000</td>\n",
       "      <td>215738.854075</td>\n",
       "    </tr>\n",
       "    <tr>\n",
       "      <th>28</th>\n",
       "      <td>58.0</td>\n",
       "      <td>360000</td>\n",
       "      <td>237101.846640</td>\n",
       "    </tr>\n",
       "    <tr>\n",
       "      <th>43</th>\n",
       "      <td>74.5</td>\n",
       "      <td>250000</td>\n",
       "      <td>295850.076195</td>\n",
       "    </tr>\n",
       "    <tr>\n",
       "      <th>49</th>\n",
       "      <td>60.8</td>\n",
       "      <td>300000</td>\n",
       "      <td>247071.243171</td>\n",
       "    </tr>\n",
       "    <tr>\n",
       "      <th>5</th>\n",
       "      <td>55.0</td>\n",
       "      <td>300000</td>\n",
       "      <td>226420.350358</td>\n",
       "    </tr>\n",
       "    <tr>\n",
       "      <th>33</th>\n",
       "      <td>78.0</td>\n",
       "      <td>330000</td>\n",
       "      <td>308311.821858</td>\n",
       "    </tr>\n",
       "    <tr>\n",
       "      <th>20</th>\n",
       "      <td>63.0</td>\n",
       "      <td>120000</td>\n",
       "      <td>254904.340445</td>\n",
       "    </tr>\n",
       "    <tr>\n",
       "      <th>42</th>\n",
       "      <td>74.4</td>\n",
       "      <td>300000</td>\n",
       "      <td>295494.026318</td>\n",
       "    </tr>\n",
       "  </tbody>\n",
       "</table>\n",
       "</div>"
      ],
      "text/plain": [
       "    10th Grade Percentage  Actual      Predicted\n",
       "6                    70.0  260000  279827.831771\n",
       "36                   68.0  177600  272706.834249\n",
       "37                   52.0  236000  215738.854075\n",
       "28                   58.0  360000  237101.846640\n",
       "43                   74.5  250000  295850.076195\n",
       "49                   60.8  300000  247071.243171\n",
       "5                    55.0  300000  226420.350358\n",
       "33                   78.0  330000  308311.821858\n",
       "20                   63.0  120000  254904.340445\n",
       "42                   74.4  300000  295494.026318"
      ]
     },
     "execution_count": 48,
     "metadata": {},
     "output_type": "execute_result"
    }
   ],
   "source": [
    "mba_ridge_reg=Ridge(alpha=0.1).fit(train_X_2D,train_y_2D)\n",
    "pred_y=mba_ridge_reg.predict(test_X_2D)\n",
    "print_prediction(test_y,pred_y.flatten(),test_X)"
   ]
  },
  {
   "cell_type": "code",
   "execution_count": 49,
   "id": "0623ad7b",
   "metadata": {},
   "outputs": [
    {
     "name": "stdout",
     "output_type": "stream",
     "text": [
      "mse=  5396043253.578459 , mae=  59155.09402391307  and r2_score=  -0.15663708311208047\n",
      "MSE wise poly is better, it's MSE value is= 4106455615.2503386\n",
      "MAE wise poly is better, it's MAE value is= 51589.758329155295\n",
      "R2 wise poly is better, it's R2 value is= 0.11978488282084054\n"
     ]
    }
   ],
   "source": [
    "mse_ridge,mae_ridge,r2_ridge=residual_check(test_y,pred_y)\n",
    "compare_evaluation_metric('poly','ridge')"
   ]
  },
  {
   "cell_type": "code",
   "execution_count": 50,
   "id": "e2122e7a",
   "metadata": {},
   "outputs": [
    {
     "data": {
      "image/png": "[encoded data removed]",
      "text/plain": [
       "<Figure size 600x400 with 1 Axes>"
      ]
     },
     "metadata": {},
     "output_type": "display_data"
    }
   ],
   "source": [
    "actual_vs_prediction_scatter_plot(test_y,pred_y)"
   ]
  },
  {
   "cell_type": "markdown",
   "id": "08840e17",
   "metadata": {},
   "source": [
    "<h2><span style=\"color: red;\"> Model 5:- </span>KNN Nearest Neighbour</h2> As our dataset is very small. Very easy to store in memory."
   ]
  },
  {
   "cell_type": "markdown",
   "id": "ef9ab3fc",
   "metadata": {},
   "source": [
    "<h2><span style=\"color: brown;\"> Hyper Parameter Tuning </span> Grid Search CV </h2>"
   ]
  },
  {
   "cell_type": "code",
   "execution_count": 51,
   "id": "ba3c5663",
   "metadata": {},
   "outputs": [
    {
     "name": "stdout",
     "output_type": "stream",
     "text": [
      "Best number of neighbors: 15\n"
     ]
    }
   ],
   "source": [
    "n_neighbors = [1, 3, 5, 7, 9, 11, 13, 15]\n",
    "gscv_knn = GridSearchCV(KNeighborsRegressor(), param_grid={\"n_neighbors\": n_neighbors}, cv=5, scoring=\"neg_mean_squared_error\")\n",
    "gscv_knn.fit(mba_10_percentage_2D, mba_salary_2D)\n",
    "print(\"Best number of neighbors:\", gscv_knn.best_params_[\"n_neighbors\"])"
   ]
  },
  {
   "cell_type": "code",
   "execution_count": 52,
   "id": "a2bc66fb",
   "metadata": {},
   "outputs": [
    {
     "data": {
      "text/html": [
       "<div>\n",
       "<style scoped>\n",
       "    .dataframe tbody tr th:only-of-type {\n",
       "        vertical-align: middle;\n",
       "    }\n",
       "\n",
       "    .dataframe tbody tr th {\n",
       "        vertical-align: top;\n",
       "    }\n",
       "\n",
       "    .dataframe thead th {\n",
       "        text-align: right;\n",
       "    }\n",
       "</style>\n",
       "<table border=\"1\" class=\"dataframe\">\n",
       "  <thead>\n",
       "    <tr style=\"text-align: right;\">\n",
       "      <th></th>\n",
       "      <th>10th Grade Percentage</th>\n",
       "      <th>Actual</th>\n",
       "      <th>Predicted</th>\n",
       "    </tr>\n",
       "  </thead>\n",
       "  <tbody>\n",
       "    <tr>\n",
       "      <th>6</th>\n",
       "      <td>70.0</td>\n",
       "      <td>260000</td>\n",
       "      <td>269466.666667</td>\n",
       "    </tr>\n",
       "    <tr>\n",
       "      <th>36</th>\n",
       "      <td>68.0</td>\n",
       "      <td>177600</td>\n",
       "      <td>269466.666667</td>\n",
       "    </tr>\n",
       "    <tr>\n",
       "      <th>37</th>\n",
       "      <td>52.0</td>\n",
       "      <td>236000</td>\n",
       "      <td>221600.000000</td>\n",
       "    </tr>\n",
       "    <tr>\n",
       "      <th>28</th>\n",
       "      <td>58.0</td>\n",
       "      <td>360000</td>\n",
       "      <td>229933.333333</td>\n",
       "    </tr>\n",
       "    <tr>\n",
       "      <th>43</th>\n",
       "      <td>74.5</td>\n",
       "      <td>250000</td>\n",
       "      <td>257266.666667</td>\n",
       "    </tr>\n",
       "    <tr>\n",
       "      <th>49</th>\n",
       "      <td>60.8</td>\n",
       "      <td>300000</td>\n",
       "      <td>259466.666667</td>\n",
       "    </tr>\n",
       "    <tr>\n",
       "      <th>5</th>\n",
       "      <td>55.0</td>\n",
       "      <td>300000</td>\n",
       "      <td>230266.666667</td>\n",
       "    </tr>\n",
       "    <tr>\n",
       "      <th>33</th>\n",
       "      <td>78.0</td>\n",
       "      <td>330000</td>\n",
       "      <td>293600.000000</td>\n",
       "    </tr>\n",
       "    <tr>\n",
       "      <th>20</th>\n",
       "      <td>63.0</td>\n",
       "      <td>120000</td>\n",
       "      <td>245800.000000</td>\n",
       "    </tr>\n",
       "    <tr>\n",
       "      <th>42</th>\n",
       "      <td>74.4</td>\n",
       "      <td>300000</td>\n",
       "      <td>257266.666667</td>\n",
       "    </tr>\n",
       "  </tbody>\n",
       "</table>\n",
       "</div>"
      ],
      "text/plain": [
       "    10th Grade Percentage  Actual      Predicted\n",
       "6                    70.0  260000  269466.666667\n",
       "36                   68.0  177600  269466.666667\n",
       "37                   52.0  236000  221600.000000\n",
       "28                   58.0  360000  229933.333333\n",
       "43                   74.5  250000  257266.666667\n",
       "49                   60.8  300000  259466.666667\n",
       "5                    55.0  300000  230266.666667\n",
       "33                   78.0  330000  293600.000000\n",
       "20                   63.0  120000  245800.000000\n",
       "42                   74.4  300000  257266.666667"
      ]
     },
     "execution_count": 52,
     "metadata": {},
     "output_type": "execute_result"
    }
   ],
   "source": [
    "mba_knn_reg=KNeighborsRegressor(n_neighbors=gscv_knn.best_params_[\"n_neighbors\"]).fit(train_X_2D,train_y_2D)\n",
    "pred_y=mba_knn_reg.predict(test_X_2D)\n",
    "print_prediction(test_y,pred_y.flatten(),test_X)"
   ]
  },
  {
   "cell_type": "code",
   "execution_count": 53,
   "id": "82cd9390",
   "metadata": {},
   "outputs": [
    {
     "name": "stdout",
     "output_type": "stream",
     "text": [
      "mse=  5118903111.111112 , mae=  56826.66666666667  and r2_score=  -0.09723233950033827\n",
      "MSE wise poly is better, it's MSE value is= 4106455615.2503386\n",
      "MAE wise poly is better, it's MAE value is= 51589.758329155295\n",
      "R2 wise poly is better, it's R2 value is= 0.11978488282084054\n"
     ]
    }
   ],
   "source": [
    "mse_knn,mae_knn,r2_knn=residual_check(test_y,pred_y)\n",
    "compare_evaluation_metric('poly','knn')"
   ]
  },
  {
   "cell_type": "code",
   "execution_count": 54,
   "id": "17c91be2",
   "metadata": {},
   "outputs": [
    {
     "data": {
      "image/png": "[encoded data removed]",
      "text/plain": [
       "<Figure size 600x400 with 1 Axes>"
      ]
     },
     "metadata": {},
     "output_type": "display_data"
    }
   ],
   "source": [
    "actual_vs_prediction_scatter_plot(test_y,pred_y)"
   ]
  },
  {
   "cell_type": "markdown",
   "id": "d1d46710",
   "metadata": {},
   "source": [
    "<h2><span style=\"color: red;\"> Model 6:- </span>SVM</h2> 1. As we know SVR works best woth small or medium sized data and we have very small sized data. <br> 2. From graphs and polynomial model we have already seen our model is not linear and we know SVR works well when the relationship between predictors and the target variable is non linear or complex."
   ]
  },
  {
   "cell_type": "markdown",
   "id": "cca44f70",
   "metadata": {},
   "source": [
    "<h3><span style=\"color: brown;\"> Hyper Parameter Tuning </span> Grid Search CV </h3>"
   ]
  },
  {
   "cell_type": "code",
   "execution_count": 55,
   "id": "2133a821",
   "metadata": {},
   "outputs": [
    {
     "name": "stdout",
     "output_type": "stream",
     "text": [
      "Best C: 30.0\n",
      "Best gamma: scale\n"
     ]
    }
   ],
   "source": [
    "# Define the range of values for C and gamma hyperparameters\n",
    "c_values = [0.1, 1.0, 10.0,20.0,30.0]\n",
    "gamma_values = ['scale', 'auto']\n",
    "param_grid = {'C': c_values, 'gamma': gamma_values}\n",
    "\n",
    "gscv_svm = GridSearchCV(SVR(), param_grid=param_grid, cv=5, scoring=\"neg_mean_squared_error\")\n",
    "gscv_svm.fit(mba_10_percentage_2D, mba_salary_df[\"Salary\"])\n",
    "\n",
    "print(\"Best C:\", gscv_svm.best_params_[\"C\"])\n",
    "print(\"Best gamma:\", gscv_svm.best_params_[\"gamma\"])"
   ]
  },
  {
   "cell_type": "markdown",
   "id": "f27ed429",
   "metadata": {},
   "source": [
    "<h3><span style=\"color: brown;\"> Real Model </span> apply best parameter </h3>"
   ]
  },
  {
   "cell_type": "code",
   "execution_count": 56,
   "id": "f56028e6",
   "metadata": {},
   "outputs": [
    {
     "data": {
      "text/html": [
       "<div>\n",
       "<style scoped>\n",
       "    .dataframe tbody tr th:only-of-type {\n",
       "        vertical-align: middle;\n",
       "    }\n",
       "\n",
       "    .dataframe tbody tr th {\n",
       "        vertical-align: top;\n",
       "    }\n",
       "\n",
       "    .dataframe thead th {\n",
       "        text-align: right;\n",
       "    }\n",
       "</style>\n",
       "<table border=\"1\" class=\"dataframe\">\n",
       "  <thead>\n",
       "    <tr style=\"text-align: right;\">\n",
       "      <th></th>\n",
       "      <th>10th Grade Percentage</th>\n",
       "      <th>Actual</th>\n",
       "      <th>Predicted</th>\n",
       "    </tr>\n",
       "  </thead>\n",
       "  <tbody>\n",
       "    <tr>\n",
       "      <th>6</th>\n",
       "      <td>70.0</td>\n",
       "      <td>260000</td>\n",
       "      <td>249982.126111</td>\n",
       "    </tr>\n",
       "    <tr>\n",
       "      <th>36</th>\n",
       "      <td>68.0</td>\n",
       "      <td>177600</td>\n",
       "      <td>249970.888934</td>\n",
       "    </tr>\n",
       "    <tr>\n",
       "      <th>37</th>\n",
       "      <td>52.0</td>\n",
       "      <td>236000</td>\n",
       "      <td>250000.099997</td>\n",
       "    </tr>\n",
       "    <tr>\n",
       "      <th>28</th>\n",
       "      <td>58.0</td>\n",
       "      <td>360000</td>\n",
       "      <td>249949.551564</td>\n",
       "    </tr>\n",
       "    <tr>\n",
       "      <th>43</th>\n",
       "      <td>74.5</td>\n",
       "      <td>250000</td>\n",
       "      <td>249998.760940</td>\n",
       "    </tr>\n",
       "    <tr>\n",
       "      <th>49</th>\n",
       "      <td>60.8</td>\n",
       "      <td>300000</td>\n",
       "      <td>249939.691810</td>\n",
       "    </tr>\n",
       "    <tr>\n",
       "      <th>5</th>\n",
       "      <td>55.0</td>\n",
       "      <td>300000</td>\n",
       "      <td>249974.124722</td>\n",
       "    </tr>\n",
       "    <tr>\n",
       "      <th>33</th>\n",
       "      <td>78.0</td>\n",
       "      <td>330000</td>\n",
       "      <td>250004.213643</td>\n",
       "    </tr>\n",
       "    <tr>\n",
       "      <th>20</th>\n",
       "      <td>63.0</td>\n",
       "      <td>120000</td>\n",
       "      <td>249943.066175</td>\n",
       "    </tr>\n",
       "    <tr>\n",
       "      <th>42</th>\n",
       "      <td>74.4</td>\n",
       "      <td>300000</td>\n",
       "      <td>249998.517854</td>\n",
       "    </tr>\n",
       "  </tbody>\n",
       "</table>\n",
       "</div>"
      ],
      "text/plain": [
       "    10th Grade Percentage  Actual      Predicted\n",
       "6                    70.0  260000  249982.126111\n",
       "36                   68.0  177600  249970.888934\n",
       "37                   52.0  236000  250000.099997\n",
       "28                   58.0  360000  249949.551564\n",
       "43                   74.5  250000  249998.760940\n",
       "49                   60.8  300000  249939.691810\n",
       "5                    55.0  300000  249974.124722\n",
       "33                   78.0  330000  250004.213643\n",
       "20                   63.0  120000  249943.066175\n",
       "42                   74.4  300000  249998.517854"
      ]
     },
     "execution_count": 56,
     "metadata": {},
     "output_type": "execute_result"
    }
   ],
   "source": [
    "mba_svr_reg = SVR(C=gscv_svm.best_params_[\"C\"], gamma=gscv_svm.best_params_[\"gamma\"])\n",
    "mba_svr_reg.fit(train_X_2D, train_y)\n",
    "pred_y = mba_svr_reg.predict(test_X_2D)\n",
    "print_prediction(test_y,pred_y.flatten(),test_X)"
   ]
  },
  {
   "cell_type": "code",
   "execution_count": 57,
   "id": "b16b7556",
   "metadata": {
    "scrolled": true
   },
   "outputs": [
    {
     "name": "stdout",
     "output_type": "stream",
     "text": [
      "mse=  4843830451.699182 , mae=  56646.70684619255  and r2_score=  -0.03827075904690047\n",
      "MSE wise poly is better, it's MSE value is= 4106455615.2503386\n",
      "MAE wise poly is better, it's MAE value is= 51589.758329155295\n",
      "R2 wise poly is better, it's R2 value is= 0.11978488282084054\n"
     ]
    }
   ],
   "source": [
    "mse_svr,mae_svr,r2_svr=residual_check(test_y,pred_y)\n",
    "compare_evaluation_metric('poly','svr')"
   ]
  },
  {
   "cell_type": "code",
   "execution_count": 58,
   "id": "0070d8c6",
   "metadata": {},
   "outputs": [
    {
     "data": {
      "image/png": "[encoded data removed]",
      "text/plain": [
       "<Figure size 600x400 with 1 Axes>"
      ]
     },
     "metadata": {},
     "output_type": "display_data"
    }
   ],
   "source": [
    "actual_vs_prediction_scatter_plot(test_y,pred_y)"
   ]
  },
  {
   "cell_type": "markdown",
   "id": "52f2a7db",
   "metadata": {},
   "source": [
    "<h2><span style=\"color: red;\"> Model 7:- </span>Decision Tree</h2>Though our data is not large we will try this because of non-linearity of our model."
   ]
  },
  {
   "cell_type": "markdown",
   "id": "87f862c2",
   "metadata": {},
   "source": [
    "<h3><span style=\"color: brown;\"> Hyper Parameter Tuning </span> Grid Search CV </h3>"
   ]
  },
  {
   "cell_type": "code",
   "execution_count": 59,
   "id": "851433b5",
   "metadata": {},
   "outputs": [
    {
     "name": "stdout",
     "output_type": "stream",
     "text": [
      "Best max depth: 2\n"
     ]
    }
   ],
   "source": [
    "# Define the range of values for the maximum depth hyperparameter\n",
    "max_depth_values = [1, 2, 4, 8, 16]\n",
    "param_grid = {'max_depth': max_depth_values}\n",
    "\n",
    "gscv_decision_tree = GridSearchCV(DecisionTreeRegressor(), param_grid=param_grid, cv=5, scoring=\"neg_mean_squared_error\")\n",
    "gscv_decision_tree.fit(mba_10_percentage_2D, mba_salary_df[\"Salary\"])\n",
    "\n",
    "print(\"Best max depth:\", gscv_decision_tree.best_params_[\"max_depth\"])"
   ]
  },
  {
   "cell_type": "markdown",
   "id": "bd225b27",
   "metadata": {},
   "source": [
    "<h3><span style=\"color: brown;\"> Real Model </span> apply best parameter </h3>"
   ]
  },
  {
   "cell_type": "code",
   "execution_count": 60,
   "id": "7ce31f0b",
   "metadata": {},
   "outputs": [
    {
     "data": {
      "text/html": [
       "<div>\n",
       "<style scoped>\n",
       "    .dataframe tbody tr th:only-of-type {\n",
       "        vertical-align: middle;\n",
       "    }\n",
       "\n",
       "    .dataframe tbody tr th {\n",
       "        vertical-align: top;\n",
       "    }\n",
       "\n",
       "    .dataframe thead th {\n",
       "        text-align: right;\n",
       "    }\n",
       "</style>\n",
       "<table border=\"1\" class=\"dataframe\">\n",
       "  <thead>\n",
       "    <tr style=\"text-align: right;\">\n",
       "      <th></th>\n",
       "      <th>10th Grade Percentage</th>\n",
       "      <th>Actual</th>\n",
       "      <th>Predicted</th>\n",
       "    </tr>\n",
       "  </thead>\n",
       "  <tbody>\n",
       "    <tr>\n",
       "      <th>6</th>\n",
       "      <td>70.0</td>\n",
       "      <td>260000</td>\n",
       "      <td>255421.052632</td>\n",
       "    </tr>\n",
       "    <tr>\n",
       "      <th>36</th>\n",
       "      <td>68.0</td>\n",
       "      <td>177600</td>\n",
       "      <td>255421.052632</td>\n",
       "    </tr>\n",
       "    <tr>\n",
       "      <th>37</th>\n",
       "      <td>52.0</td>\n",
       "      <td>236000</td>\n",
       "      <td>255421.052632</td>\n",
       "    </tr>\n",
       "    <tr>\n",
       "      <th>28</th>\n",
       "      <td>58.0</td>\n",
       "      <td>360000</td>\n",
       "      <td>255421.052632</td>\n",
       "    </tr>\n",
       "    <tr>\n",
       "      <th>43</th>\n",
       "      <td>74.5</td>\n",
       "      <td>250000</td>\n",
       "      <td>255421.052632</td>\n",
       "    </tr>\n",
       "    <tr>\n",
       "      <th>49</th>\n",
       "      <td>60.8</td>\n",
       "      <td>300000</td>\n",
       "      <td>255421.052632</td>\n",
       "    </tr>\n",
       "    <tr>\n",
       "      <th>5</th>\n",
       "      <td>55.0</td>\n",
       "      <td>300000</td>\n",
       "      <td>255421.052632</td>\n",
       "    </tr>\n",
       "    <tr>\n",
       "      <th>33</th>\n",
       "      <td>78.0</td>\n",
       "      <td>330000</td>\n",
       "      <td>255421.052632</td>\n",
       "    </tr>\n",
       "    <tr>\n",
       "      <th>20</th>\n",
       "      <td>63.0</td>\n",
       "      <td>120000</td>\n",
       "      <td>255421.052632</td>\n",
       "    </tr>\n",
       "    <tr>\n",
       "      <th>42</th>\n",
       "      <td>74.4</td>\n",
       "      <td>300000</td>\n",
       "      <td>255421.052632</td>\n",
       "    </tr>\n",
       "  </tbody>\n",
       "</table>\n",
       "</div>"
      ],
      "text/plain": [
       "    10th Grade Percentage  Actual      Predicted\n",
       "6                    70.0  260000  255421.052632\n",
       "36                   68.0  177600  255421.052632\n",
       "37                   52.0  236000  255421.052632\n",
       "28                   58.0  360000  255421.052632\n",
       "43                   74.5  250000  255421.052632\n",
       "49                   60.8  300000  255421.052632\n",
       "5                    55.0  300000  255421.052632\n",
       "33                   78.0  330000  255421.052632\n",
       "20                   63.0  120000  255421.052632\n",
       "42                   74.4  300000  255421.052632"
      ]
     },
     "execution_count": 60,
     "metadata": {},
     "output_type": "execute_result"
    }
   ],
   "source": [
    "# Create a new Decision tree model with the best hyperparameters\n",
    "mba_decision_tree_reg = DecisionTreeRegressor(max_depth=gscv_decision_tree.best_params_[\"max_depth\"])\n",
    "mba_decision_tree_reg.fit(train_X_2D, train_y)\n",
    "pred_y = mba_decision_tree_reg.predict(test_X_2D)\n",
    "print_prediction(test_y,pred_y.flatten(),test_X)"
   ]
  },
  {
   "cell_type": "code",
   "execution_count": 61,
   "id": "9bad1c6c",
   "metadata": {
    "scrolled": true
   },
   "outputs": [
    {
     "name": "stdout",
     "output_type": "stream",
     "text": [
      "mse=  4728313285.31856 , mae=  55555.7894736842  and r2_score=  -0.013509756939801054\n",
      "MSE wise poly is better, it's MSE value is= 4106455615.2503386\n",
      "MAE wise poly is better, it's MAE value is= 51589.758329155295\n",
      "R2 wise poly is better, it's R2 value is= 0.11978488282084054\n"
     ]
    }
   ],
   "source": [
    "mse_decision_tree,mae_decision_tree,r2_decision_tree=residual_check(test_y,pred_y)\n",
    "compare_evaluation_metric('poly','decision_tree')"
   ]
  },
  {
   "cell_type": "markdown",
   "id": "effef3e5",
   "metadata": {},
   "source": [
    "Visualize Decision Tree"
   ]
  },
  {
   "cell_type": "code",
   "execution_count": 62,
   "id": "7a867c44",
   "metadata": {},
   "outputs": [
    {
     "data": {
      "image/png": "[encoded data removed]",
      "text/plain": [
       "<Figure size 1000x700 with 1 Axes>"
      ]
     },
     "metadata": {},
     "output_type": "display_data"
    }
   ],
   "source": [
    "plt.figure(figsize=(10,7))\n",
    "plot_tree(mba_decision_tree_reg, filled=True)\n",
    "plt.show()"
   ]
  },
  {
   "cell_type": "markdown",
   "id": "e96f1cd9",
   "metadata": {},
   "source": [
    "<h2><span style=\"color: red;\"> Model 8:- </span>Random Forest</h2> 1.Random Forests work well for capturing non-linear relationships between predictor and target variable so in our case we can use it. Aslo it is very good with new unseen data & robust to outliers."
   ]
  },
  {
   "cell_type": "markdown",
   "id": "b0235501",
   "metadata": {},
   "source": [
    "<h3><span style=\"color: brown;\"> Hyper Parameter Tuning </span> Grid Search CV </h3>"
   ]
  },
  {
   "cell_type": "code",
   "execution_count": 63,
   "id": "20bc57b4",
   "metadata": {},
   "outputs": [
    {
     "name": "stdout",
     "output_type": "stream",
     "text": [
      "Best n_estimators: 10\n"
     ]
    }
   ],
   "source": [
    "# Define the range of values for the n_estimators hyperparameter\n",
    "param_grid_random_forest = {'n_estimators': [10, 50, 100, 150, 200]}\n",
    "\n",
    "gscv_random_forest = GridSearchCV( RandomForestRegressor(), param_grid=param_grid_random_forest, cv=5, scoring=\"neg_mean_squared_error\")\n",
    "gscv_random_forest.fit(mba_10_percentage_2D, mba_salary_df[\"Salary\"])\n",
    "\n",
    "print(\"Best n_estimators:\", gscv_random_forest.best_params_[\"n_estimators\"])"
   ]
  },
  {
   "cell_type": "markdown",
   "id": "6f8dc45d",
   "metadata": {},
   "source": [
    "<h3><span style=\"color: brown;\"> Real Model </span> apply best parameter </h3>"
   ]
  },
  {
   "cell_type": "code",
   "execution_count": 64,
   "id": "23d427e9",
   "metadata": {},
   "outputs": [
    {
     "data": {
      "text/html": [
       "<div>\n",
       "<style scoped>\n",
       "    .dataframe tbody tr th:only-of-type {\n",
       "        vertical-align: middle;\n",
       "    }\n",
       "\n",
       "    .dataframe tbody tr th {\n",
       "        vertical-align: top;\n",
       "    }\n",
       "\n",
       "    .dataframe thead th {\n",
       "        text-align: right;\n",
       "    }\n",
       "</style>\n",
       "<table border=\"1\" class=\"dataframe\">\n",
       "  <thead>\n",
       "    <tr style=\"text-align: right;\">\n",
       "      <th></th>\n",
       "      <th>10th Grade Percentage</th>\n",
       "      <th>Actual</th>\n",
       "      <th>Predicted</th>\n",
       "    </tr>\n",
       "  </thead>\n",
       "  <tbody>\n",
       "    <tr>\n",
       "      <th>6</th>\n",
       "      <td>70.0</td>\n",
       "      <td>260000</td>\n",
       "      <td>251550.000000</td>\n",
       "    </tr>\n",
       "    <tr>\n",
       "      <th>36</th>\n",
       "      <td>68.0</td>\n",
       "      <td>177600</td>\n",
       "      <td>247416.666667</td>\n",
       "    </tr>\n",
       "    <tr>\n",
       "      <th>37</th>\n",
       "      <td>52.0</td>\n",
       "      <td>236000</td>\n",
       "      <td>229000.000000</td>\n",
       "    </tr>\n",
       "    <tr>\n",
       "      <th>28</th>\n",
       "      <td>58.0</td>\n",
       "      <td>360000</td>\n",
       "      <td>229000.000000</td>\n",
       "    </tr>\n",
       "    <tr>\n",
       "      <th>43</th>\n",
       "      <td>74.5</td>\n",
       "      <td>250000</td>\n",
       "      <td>249600.000000</td>\n",
       "    </tr>\n",
       "    <tr>\n",
       "      <th>49</th>\n",
       "      <td>60.8</td>\n",
       "      <td>300000</td>\n",
       "      <td>195166.666667</td>\n",
       "    </tr>\n",
       "    <tr>\n",
       "      <th>5</th>\n",
       "      <td>55.0</td>\n",
       "      <td>300000</td>\n",
       "      <td>295000.000000</td>\n",
       "    </tr>\n",
       "    <tr>\n",
       "      <th>33</th>\n",
       "      <td>78.0</td>\n",
       "      <td>330000</td>\n",
       "      <td>260900.000000</td>\n",
       "    </tr>\n",
       "    <tr>\n",
       "      <th>20</th>\n",
       "      <td>63.0</td>\n",
       "      <td>120000</td>\n",
       "      <td>269666.666667</td>\n",
       "    </tr>\n",
       "    <tr>\n",
       "      <th>42</th>\n",
       "      <td>74.4</td>\n",
       "      <td>300000</td>\n",
       "      <td>249600.000000</td>\n",
       "    </tr>\n",
       "  </tbody>\n",
       "</table>\n",
       "</div>"
      ],
      "text/plain": [
       "    10th Grade Percentage  Actual      Predicted\n",
       "6                    70.0  260000  251550.000000\n",
       "36                   68.0  177600  247416.666667\n",
       "37                   52.0  236000  229000.000000\n",
       "28                   58.0  360000  229000.000000\n",
       "43                   74.5  250000  249600.000000\n",
       "49                   60.8  300000  195166.666667\n",
       "5                    55.0  300000  295000.000000\n",
       "33                   78.0  330000  260900.000000\n",
       "20                   63.0  120000  269666.666667\n",
       "42                   74.4  300000  249600.000000"
      ]
     },
     "execution_count": 64,
     "metadata": {},
     "output_type": "execute_result"
    }
   ],
   "source": [
    "rf_model = RandomForestRegressor(n_estimators=gscv_random_forest.best_params_[\"n_estimators\"])\n",
    "rf_model.fit(train_X_2D, train_y)\n",
    "pred_y = rf_model.predict(test_X_2D)\n",
    "print_prediction(test_y,pred_y.flatten(),test_X)"
   ]
  },
  {
   "cell_type": "code",
   "execution_count": 65,
   "id": "e26b8544",
   "metadata": {},
   "outputs": [
    {
     "name": "stdout",
     "output_type": "stream",
     "text": [
      "mse=  6288603833.333333 , mae=  59566.666666666664  and r2_score=  -0.3479566513501364\n",
      "MSE wise poly is better, it's MSE value is= 4106455615.2503386\n",
      "MAE wise poly is better, it's MAE value is= 51589.758329155295\n",
      "R2 wise poly is better, it's R2 value is= 0.11978488282084054\n"
     ]
    }
   ],
   "source": [
    "mse_random_forest,mae_random_forest,r2_random_forest=residual_check(test_y,pred_y)\n",
    "compare_evaluation_metric('poly','random_forest')"
   ]
  },
  {
   "cell_type": "code",
   "execution_count": 66,
   "id": "30dd9fb5",
   "metadata": {},
   "outputs": [
    {
     "data": {
      "image/png": "[encoded data removed]",
      "text/plain": [
       "<Figure size 600x400 with 1 Axes>"
      ]
     },
     "metadata": {},
     "output_type": "display_data"
    }
   ],
   "source": [
    "actual_vs_prediction_scatter_plot(test_y,pred_y)"
   ]
  },
  {
   "cell_type": "markdown",
   "id": "673ce371",
   "metadata": {},
   "source": [
    "<h1><span style=\"color: blue;\"> Conclusion:- </span></h1>\n",
    "As we can see, except for the polynomial model, all models have a significant mean absolute error (MAE) and mean squared error (MSE), and the R-squared value is negative for all. Despite having a positive R-square value, the polynomial model is not suitable for publication as it is very complex and prone to overfitting. Additionally, this complex model only explains 11% of the variance, which is a relatively low percentage compared to its complexity.\n",
    "<h2><span style=\"color: red;\"> Final Verdict:- </span></h2> None of the selected models are satisfactory. Instead, we should consider adding more features to the model, as it is apparent that solely relying on 10th-grade marks is insufficient for accurately predicting the salary of a student after obtaining an MBA. "
   ]
  }
 ],
 "metadata": {
  "kernelspec": {
   "display_name": "Python 3 (ipykernel)",
   "language": "python",
   "name": "python3"
  },
  "language_info": {
   "codemirror_mode": {
    "name": "ipython",
    "version": 3
   },
   "file_extension": ".py",
   "mimetype": "text/x-python",
   "name": "python",
   "nbconvert_exporter": "python",
   "pygments_lexer": "ipython3",
   "version": "3.10.8"
  }
 },
 "nbformat": 4,
 "nbformat_minor": 5
}

{
 "cells": [
  {
   "cell_type": "code",
   "execution_count": 10,
   "id": "a6ccd986",
   "metadata": {},
   "outputs": [],
   "source": [
    "import ssl\n",
    "from fastai.collab import *\n",
    "from fastai.tabular.all import *"
   ]
  },
  {
   "cell_type": "code",
   "execution_count": 11,
   "id": "c1821edf",
   "metadata": {},
   "outputs": [],
   "source": [
    "try:\n",
    "    _create_unverified_https_context = ssl._create_unverified_context\n",
    "except AttributeError:\n",
    "    pass\n",
    "else:\n",
    "    ssl._create_default_https_context = _create_unverified_https_context\n",
    "path = untar_data(URLs.ML_100k)"
   ]
  },
  {
   "cell_type": "markdown",
   "id": "3ee55cc8",
   "metadata": {},
   "source": [
    "Lets convert all the required data into proper format. While downloading we got many files but we only need 3 of them .Basic infos of those 3 files,\n",
    "\n",
    "<ol>\n",
    "    <li><b>u.item-></b></li> Information about the items (movies); this is a tab separated list of,\n",
    "              movie id | movie title | release date | video release date |\n",
    "              IMDb URL | unknown | Action | Adventure | Animation |\n",
    "              Children's | Comedy | Crime | Documentary | Drama | Fantasy |\n",
    "              Film-Noir | Horror | Musical | Mystery | Romance | Sci-Fi |\n",
    "              Thriller | War | Western |\n",
    "              The last 19 fields are the genres, a 1 indicates the movie\n",
    "              is of that genre, a 0 indicates it is not; movies can be in\n",
    "              several genres at once.\n",
    "              The movie ids are the ones used in the u.data data set.\n",
    "    <li><b>u.user-></b></li> Demographic information about the users; this is a tab\n",
    "              separated list of\n",
    "              user id | age | gender | occupation | zip code\n",
    "              The user ids are the ones used in the u.data data set.\n",
    "    <li><b>u.data-></b></li> The full u data set, 100000 ratings by 943 users on 1682 items.\n",
    "              Each user has rated at least 20 movies.  Users and items are numbered consecutively from 1.  The data is randomly ordered. This is a tab separated list of,<br> \n",
    "\t         user id | item id | rating | timestamp <br> \n",
    "             The time stamps are unix seconds since 1/1/1970 UTC\n",
    "</ol>"
   ]
  },
  {
   "cell_type": "code",
   "execution_count": 36,
   "id": "9637afae",
   "metadata": {},
   "outputs": [],
   "source": [
    "movie_columns = ['movie_id','movie_title','release_date','video_release_date','url','unknown','action',\\\n",
    "                 'adventure','animation','for_kids','comedy','crime','documentary','drama','fantasy',\\\n",
    "                 'film_noir','horror','musical','mystery','romance','sci_fi','thriller','war','western']\n",
    "user_columns = ['user_id','age','gender','occupation','zip_code']\n",
    "user_rating_columns = ['user_id','movie_id','rating','timestamp']"
   ]
  },
  {
   "cell_type": "code",
   "execution_count": 37,
   "id": "ca864fa9",
   "metadata": {},
   "outputs": [],
   "source": [
    "movies_df = pd.read_csv(path/'u.item', delimiter='|', header=None, names=movie_columns, encoding = 'latin-1')\n",
    "users_df = pd.read_csv(path/'u.user', delimiter='|', header=None, names=user_columns)\n",
    "user_ratings_df = pd.read_csv(path/'u.data', delimiter='\\t', header=None,names=user_columns)"
   ]
  },
  {
   "cell_type": "code",
   "execution_count": 38,
   "id": "2b8c7e83",
   "metadata": {},
   "outputs": [
    {
     "data": {
      "text/plain": [
       "(1682, 943, 100000)"
      ]
     },
     "execution_count": 38,
     "metadata": {},
     "output_type": "execute_result"
    }
   ],
   "source": [
    "movies_df.shape[0],users_df.shape[0],user_ratings_df.shape[0]"
   ]
  },
  {
   "cell_type": "code",
   "execution_count": null,
   "id": "cc00e512",
   "metadata": {},
   "outputs": [],
   "source": []
  }
 ],
 "metadata": {
  "kernelspec": {
   "display_name": "Python 3 (ipykernel)",
   "language": "python",
   "name": "python3"
  },
  "language_info": {
   "codemirror_mode": {
    "name": "ipython",
    "version": 3
   },
   "file_extension": ".py",
   "mimetype": "text/x-python",
   "name": "python",
   "nbconvert_exporter": "python",
   "pygments_lexer": "ipython3",
   "version": "3.10.8"
  }
 },
 "nbformat": 4,
 "nbformat_minor": 5
}
